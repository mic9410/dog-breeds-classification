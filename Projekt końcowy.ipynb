{
 "cells": [
  {
   "cell_type": "markdown",
   "metadata": {},
   "source": [
    "# Rozpoznawanie ras psów z wykorzystaniem biblioteki Keras\n",
    "### Michał Foryt, Szczepan Gabiec, Paweł Wróblewski\n",
    "\n",
    "<img src=\"meme2.jpg\" style=\"width: 400px;\">\n",
    "\n",
    "Celem projektu jest stworzenie algorytmu służącego do rozpoznawaniu ras psów porzy wykorzystaniu biblioteki Keras, w oparciu o TensorFlow. Zbiór z którego korzystaliśmy pochodzi z jednego z konkursów zorganizowanych przez portal Kaggle i znajduje się pod tym linkiem: https://www.kaggle.com/c/dog-breed-identification. Z uwagi na jego rozmiar (~750MB) nie bedzie on dołączony bezpośrednio do kodu.  \n",
    "\n",
    "W skład zbioru wchodzi około 10 tysięcy zdjęć, a wśród nich można wyróźnić 120 klas (ras psów). Pracując na tych danych, będziemy mogli stworzyć algorytm bazujący na głębokim uczeniu sieci neuronowych. W dużym uproszczeniu, zadaniem tego typu algorytmu jest rozpoznawanie obrazów podobnie, jak robi to umysł ludzki - \"oglądając\" ogromną pulę zdjęć z czasem rozpoznaje charakterystyczne cechy dla danego obiektu, przykładowo że rottweilera można poznać po tym, że jest duży i ma krótką, ciemną sierść, a york ma krótkie łapy i jest mocno owłosiony. Innymi słowy, algorytm najpierw zbiera dużą ilość danych, a następnie pozwala komputerowi zapoznać się z każdym z nich. Opierając się na dużych bazach danych i zauważając pojawiające się wzorce, komputery mogą rozpoznać obrazy i sformułować odpowiednie tagi i kategorie.\n",
    "\n",
    "Formalnie można nakreślić następujacy przebieg metody:\n",
    "- Na wejściu algorytm otrzymuje zbiór zawierający N obrazów, każdy z nich przypisany jest do jednej z K klas. \n",
    "- Następnie wykorzystuje się zbiór treningowy do szkolenia klasyfikatora tak, aby był on w stanie jak najepiej przyporządkować etykietę do zdjęcia.\n",
    "- Na koniec ocenia się jakość klasyfikatora, prosząc go o przewidywanie etykiet dla nowego zestawu obrazów, których nigdy wcześniej nie widział, po czym porównamy prawdziwe etykiety tych obrazów z przewidywanymi przez klasyfikator.\n"
   ]
  },
  {
   "cell_type": "markdown",
   "metadata": {},
   "source": [
    "## Konwolucyjne Sieci Neuronowe \n",
    "Konwolucyjne Sieci Neuronowe (ang. <i>CNN, Convolutional neural networks</i>, tłumaczone także jako <i>Splotowe Sieci Neuronowe</i>) w sprytny sposób redukują liczbę przyjmowanych parametrów. Zamiast działać na sieci, w której neurony są połączone każdy z każdym, podejście jakie prezentują CNN wykorzystują wielokrotnie te same parametry. Kluczem do sukcesu konwolucyjnych sieci jest fakt, że wychodza one z założenia, że wystarczy lokalne zrozumienie obrazu. Innymi słowy, algorytm skupia się na tym, by  stopniowo filtrować różne części danych uczących i wyostrzać ważne cechy w procesie dyskryminacji wykorzystanym do rozpoznawania lub klasyfikacji wzorców. W praktyce zaletą takiego podejścia jest posiadanie mniejszej liczby parametrów, co przekłada się na znaczne zmniejszenie czasu potrzebnego do wytrenowania modelu.\n",
    "\n",
    "Rozważmy obraz o wymiarze 256 × 256 pikseli. Zamiast przetwarzać cały obraz naraz, CNN może skutecznie skanować go po kawałku - powiedzmy, patrząc na fragment o wymiarach 5 × 5. Taka ramka o wymiarach 5 × 5px przesuwa się wzdłuż obrazu (zwykle od lewej do prawej i od góry do dołu), jak pokazano na poniższym rysunku. \n",
    "\n",
    "<img src=\"cnn_concept.jpeg\" style=\"width: 350px;\">\n",
    "\n",
    "Tempo przesuwania się takiej ramki nazywamy \"długością kroku\". Na przykład długość kroku 2 oznacza, że okno 5 × 5 przesuwa się o 2 piksele na raz, aż obejmie cały obraz. Taka ramka 5 x 5 pikseli przekłada się na macierz wag o wymiarze 5 x 5. \n",
    "\n",
    "Tego typu operacja ma miejsce w warstwie konwolucyjnej sieci neuronowej. Typowa CNN posiada wiele tego typu warste. Każda z nich zazwyczaj generuje wiele różnych splotów (ang. <i>convolutions</i>). Co za tym idzie, macierz wagowa takiego tensora (czyli obiektu matematycznego będącego uogólnieniem pojęcia wektora) ma wymiary 5 × 5 x n, gdzie n liczbą konwolucji (splotów).\n",
    "\n",
    "Przykładowo, załóżmy że przepuszczamy rozważany obraz przez pojedynczą warstwę splotu jako macierz wagowa 5 x 5 x 64 z ramką 5 x 5. Co za ty idzie, taki model posiada 5 x 5 x64 = 1600 parametrów, podczas gdy pełna sieć dla obrazu 256 x 256px wymagałaby zastosowania 65 536 parametrów."
   ]
  },
  {
   "cell_type": "markdown",
   "metadata": {},
   "source": [
    "## Obróbka zbioru danych\n",
    "Jak już wspomnielismy na początku, wykorzystamy zbiór danych dotyczący rozpoznawania ras psów, który wstępnie został już podzielony na zbiór treningowy i testowy. Nazwa każdego z obrazów jest też jednocześnie jego unikalnym id. Cały zestaw danych zawiera zdjęcia 120 ras, jednak dla urposzczenia modelu przyjmiemy założenie, że ograniczamy się jedynie do rozpoznawania 8 najpopularniejszych."
   ]
  },
  {
   "cell_type": "markdown",
   "metadata": {},
   "source": [
    "Dla porządku, wszystkie niezbędne importy zastosujemy poniżej. Dzięki temu uzyskamy większa czytelność oraz podcas tworzenia naszej funkcjonalności będziemy mieli pewność, że wszystkie niezbędne paczki zostały już ściągnięte.  "
   ]
  },
  {
   "cell_type": "code",
   "execution_count": 63,
   "metadata": {},
   "outputs": [],
   "source": [
    "%matplotlib inline\n",
    "import matplotlib.pyplot as plt\n",
    "\n",
    "import tensorflow as tf\n",
    "import numpy as np\n",
    "import pandas as pd\n",
    "import math\n",
    "import os\n",
    "import scipy.misc\n",
    "import time\n",
    "import pickle\n",
    "import pandas as pd \n",
    "\n",
    "from datetime import timedelta\n",
    "from scipy.stats import itemfreq\n",
    "from random import sample\n",
    "from sklearn.metrics import confusion_matrix\n",
    "from sklearn.model_selection import train_test_split\n",
    "\n",
    "# Otwarcie plików ZIP\n",
    "from zipfile import ZipFile\n",
    "from io import BytesIO\n",
    "\n",
    "# Obróbka zdjęć\n",
    "import PIL.Image\n",
    "from IPython.display import display"
   ]
  },
  {
   "cell_type": "markdown",
   "metadata": {},
   "source": [
    "Następnie rozpakowujemy dane testowe i treningowe."
   ]
  },
  {
   "cell_type": "code",
   "execution_count": 8,
   "metadata": {},
   "outputs": [],
   "source": [
    "archive_test = ZipFile(\"dataset/test.zip\", 'r')\n",
    "archive_train = ZipFile(\"dataset/train.zip\", 'r')"
   ]
  },
  {
   "cell_type": "markdown",
   "metadata": {},
   "source": [
    "Sprawdzamy czy dane zostały zaczytane poprawnie."
   ]
  },
  {
   "cell_type": "code",
   "execution_count": 4,
   "metadata": {},
   "outputs": [
    {
     "data": {
      "text/plain": [
       "['train/',\n",
       " 'train/003df8b8a8b05244b1d920bb6cf451f9.jpg',\n",
       " 'train/0042188c895a2f14ef64a918ed9c7b64.jpg',\n",
       " 'train/00ba244566e36e0af3d979320fd3017f.jpg',\n",
       " 'train/00f34ac0a16ef43e6fd1de49a26081ce.jpg']"
      ]
     },
     "execution_count": 4,
     "metadata": {},
     "output_type": "execute_result"
    }
   ],
   "source": [
    "archive_train.namelist()[0:5]"
   ]
  },
  {
   "cell_type": "markdown",
   "metadata": {},
   "source": [
    "Piszemy funkcję której zadaniem jest stworzenie Pickle files. Tego typu pliki wykorzystuje się do serializacji i de-serializacji obiektów w Pythonie. Każdy plik można poddać \"marynowaniu\" (\"piklowaniu\"), aby można go było zapisać na dysku. Pickling jest metodą która umożliwia serializację obiektu przed zapisaniem go do pliku. Pozwala zapisać obiekt pythonowy jako strumień znaków. Taka konstrukcja zawiera wszystkie informacje niezbędne do zrekonstruowania obiektu w innym skrypcie Pythona."
   ]
  },
  {
   "cell_type": "code",
   "execution_count": 70,
   "metadata": {},
   "outputs": [],
   "source": [
    "def data_base_creator(archivezip, nwidth, nheight, save_name):\n",
    "    # Przygotowujemy pustą macierz zerową do której zapisywać będziemy dane o poszczególnych pikselach. \n",
    "    # Każdy obiekt w tablicy allImages zawiera listę pikseli, a każdy piksel reprezentowany jest przez\n",
    "    #listę 3-elementową, odpowiadającą wartości RGB\n",
    "    allImages = np.zeros((len(archivezip.namelist()[:])-1, nwidth, nheight, 3))\n",
    "\n",
    "    #Otwieramy każdy z obrazów, dostosowujemy rozmiar i zapisujemy \n",
    "    for i in range(1,len(archivezip.namelist()[:])):\n",
    "        filename = BytesIO(archivezip.read(archivezip.namelist()[i]))\n",
    "        image = PIL.Image.open(filename)\n",
    "        image = image.resize((nwidth, nheight))\n",
    "        image = np.array(image)\n",
    "        image = np.clip(image/255.0, 0.0, 1.0) # 255 = Maksymalna wartość w skali RGB dla piksela\n",
    "        allImages[i-1]=image\n",
    "    \n",
    "    # Zapisujemy nowo utworzoną bazę danych\n",
    "    pickle.dump(allImages, open( save_name + '.p', \"wb\" ))\n",
    "    print(\"Done.\")"
   ]
  },
  {
   "cell_type": "markdown",
   "metadata": {},
   "source": [
    "Nastepnie definiujemy docelowy rozmiar zdjeć, po czym uruchamiamy stworzoną funkcję do normalizacji ich wymiarów, zarówno dla zbioru testowego jak i walidacyjnego."
   ]
  },
  {
   "cell_type": "code",
   "execution_count": 33,
   "metadata": {},
   "outputs": [
    {
     "name": "stdout",
     "output_type": "stream",
     "text": [
      "Done.\n",
      "Done.\n"
     ]
    }
   ],
   "source": [
    "image_resize = 60\n",
    "data_base_creator(archivezip = archive_test, nwidth = image_resize, nheight = image_resize, save_name = \"test\")\n",
    "data_base_creator(archivezip = archive_train, nwidth = image_resize, nheight = image_resize, save_name = \"train\")"
   ]
  },
  {
   "cell_type": "markdown",
   "metadata": {},
   "source": [
    "Uzyskaliśmy w ten sposób odpowiednio przygotowany zbiór treningowy i testowy. Dzięki temu zabiegowi, jeśli będziemy potrzebować jednego z tych zbiorów, wystarczy bezpośrednio wywołać je poniższą komendą, zamiast za każdym razem wykonywać powyższy kod podczas kolejnych uruchomień. "
   ]
  },
  {
   "cell_type": "code",
   "execution_count": 35,
   "metadata": {},
   "outputs": [
    {
     "data": {
      "text/plain": [
       "(10357, 60, 60, 3)"
      ]
     },
     "execution_count": 35,
     "metadata": {},
     "output_type": "execute_result"
    }
   ],
   "source": [
    "test = pickle.load(open(\"test.p\", \"rb\"))\n",
    "test.shape"
   ]
  },
  {
   "cell_type": "code",
   "execution_count": 36,
   "metadata": {},
   "outputs": [
    {
     "data": {
      "text/plain": [
       "(10222, 60, 60, 3)"
      ]
     },
     "execution_count": 36,
     "metadata": {},
     "output_type": "execute_result"
    }
   ],
   "source": [
    "train = pickle.load(open(\"train.p\", \"rb\"))\n",
    "train.shape"
   ]
  },
  {
   "cell_type": "code",
   "execution_count": 55,
   "metadata": {},
   "outputs": [
    {
     "data": {
      "text/plain": [
       "array([[[[0.56862745, 0.59215686, 0.34901961],\n",
       "         [0.49019608, 0.5254902 , 0.30980392],\n",
       "         [0.31372549, 0.34509804, 0.12156863],\n",
       "         ...,\n",
       "         [0.54117647, 0.5372549 , 0.34901961],\n",
       "         [0.48627451, 0.50980392, 0.2745098 ],\n",
       "         [0.51372549, 0.5372549 , 0.30196078]],\n",
       "\n",
       "        [[0.48627451, 0.55686275, 0.32156863],\n",
       "         [0.55686275, 0.62745098, 0.39215686],\n",
       "         [0.50588235, 0.56078431, 0.32941176],\n",
       "         ...,\n",
       "         [0.4745098 , 0.47843137, 0.25490196],\n",
       "         [0.55294118, 0.57254902, 0.35294118],\n",
       "         [0.52156863, 0.58431373, 0.34117647]],\n",
       "\n",
       "        [[0.54117647, 0.58431373, 0.35686275],\n",
       "         [0.61960784, 0.69019608, 0.44705882],\n",
       "         [0.43529412, 0.51372549, 0.2745098 ],\n",
       "         ...,\n",
       "         [0.61568627, 0.6627451 , 0.41960784],\n",
       "         [0.5254902 , 0.58039216, 0.38823529],\n",
       "         [0.29803922, 0.3372549 , 0.12941176]],\n",
       "\n",
       "        ...,\n",
       "\n",
       "        [[0.20392157, 0.13333333, 0.11764706],\n",
       "         [0.4627451 , 0.53333333, 0.24313725],\n",
       "         [0.58039216, 0.71764706, 0.34901961],\n",
       "         ...,\n",
       "         [0.94509804, 1.        , 0.85882353],\n",
       "         [0.92941176, 0.85882353, 0.77254902],\n",
       "         [0.54901961, 0.61568627, 0.40392157]],\n",
       "\n",
       "        [[0.18039216, 0.27058824, 0.        ],\n",
       "         [0.58431373, 0.60784314, 0.37254902],\n",
       "         [0.36470588, 0.39215686, 0.21960784],\n",
       "         ...,\n",
       "         [0.56862745, 0.6       , 0.37647059],\n",
       "         [0.22745098, 0.25098039, 0.10980392],\n",
       "         [0.10588235, 0.07843137, 0.00392157]],\n",
       "\n",
       "        [[0.65490196, 0.73333333, 0.48627451],\n",
       "         [0.15686275, 0.2       , 0.06666667],\n",
       "         [0.67058824, 0.68627451, 0.49019608],\n",
       "         ...,\n",
       "         [0.83529412, 0.72941176, 0.56078431],\n",
       "         [0.62352941, 0.65098039, 0.38431373],\n",
       "         [0.91764706, 0.88235294, 0.96470588]]],\n",
       "\n",
       "\n",
       "       [[[0.03137255, 0.03529412, 0.00392157],\n",
       "         [0.03921569, 0.04313725, 0.01176471],\n",
       "         [0.07058824, 0.10980392, 0.01568627],\n",
       "         ...,\n",
       "         [0.24313725, 0.34117647, 0.11372549],\n",
       "         [0.16470588, 0.18431373, 0.09411765],\n",
       "         [0.36862745, 0.42745098, 0.09411765]],\n",
       "\n",
       "        [[0.04313725, 0.04705882, 0.02745098],\n",
       "         [0.01568627, 0.01960784, 0.        ],\n",
       "         [0.02745098, 0.02352941, 0.01568627],\n",
       "         ...,\n",
       "         [0.2745098 , 0.32941176, 0.12941176],\n",
       "         [0.12941176, 0.16078431, 0.01568627],\n",
       "         [0.19215686, 0.23137255, 0.02745098]],\n",
       "\n",
       "        [[0.03137255, 0.03137255, 0.02352941],\n",
       "         [0.02745098, 0.02745098, 0.01960784],\n",
       "         [0.02745098, 0.05490196, 0.02745098],\n",
       "         ...,\n",
       "         [0.0745098 , 0.08627451, 0.        ],\n",
       "         [0.10980392, 0.12156863, 0.07843137],\n",
       "         [0.16862745, 0.2       , 0.03921569]],\n",
       "\n",
       "        ...,\n",
       "\n",
       "        [[0.24313725, 0.30588235, 0.12941176],\n",
       "         [0.21960784, 0.28235294, 0.10588235],\n",
       "         [0.33333333, 0.41568627, 0.19215686],\n",
       "         ...,\n",
       "         [0.42745098, 0.52156863, 0.28627451],\n",
       "         [0.36470588, 0.42745098, 0.18431373],\n",
       "         [0.34901961, 0.41176471, 0.16470588]],\n",
       "\n",
       "        [[0.15686275, 0.24705882, 0.0745098 ],\n",
       "         [0.07058824, 0.14901961, 0.00392157],\n",
       "         [0.18823529, 0.24705882, 0.07843137],\n",
       "         ...,\n",
       "         [0.30196078, 0.4       , 0.18431373],\n",
       "         [0.28627451, 0.35294118, 0.14901961],\n",
       "         [0.31372549, 0.38431373, 0.14901961]],\n",
       "\n",
       "        [[0.12156863, 0.17647059, 0.03921569],\n",
       "         [0.3254902 , 0.40784314, 0.27843137],\n",
       "         [0.22745098, 0.28235294, 0.14509804],\n",
       "         ...,\n",
       "         [0.28235294, 0.36470588, 0.13333333],\n",
       "         [0.36470588, 0.43137255, 0.22745098],\n",
       "         [0.32941176, 0.4       , 0.16470588]]],\n",
       "\n",
       "\n",
       "       [[[0.84705882, 0.45098039, 0.48235294],\n",
       "         [0.85882353, 0.42352941, 0.45882353],\n",
       "         [0.68235294, 0.46666667, 0.47843137],\n",
       "         ...,\n",
       "         [0.34509804, 0.39607843, 0.42745098],\n",
       "         [0.28627451, 0.3372549 , 0.36078431],\n",
       "         [0.29411765, 0.34509804, 0.36862745]],\n",
       "\n",
       "        [[0.98823529, 0.4745098 , 0.49803922],\n",
       "         [1.        , 0.43529412, 0.47058824],\n",
       "         [0.65098039, 0.18039216, 0.22745098],\n",
       "         ...,\n",
       "         [0.34509804, 0.39607843, 0.42745098],\n",
       "         [0.34509804, 0.39607843, 0.42745098],\n",
       "         [0.28627451, 0.3372549 , 0.36862745]],\n",
       "\n",
       "        [[0.96078431, 0.4745098 , 0.46666667],\n",
       "         [0.95294118, 0.45098039, 0.44705882],\n",
       "         [0.95686275, 0.44705882, 0.49411765],\n",
       "         ...,\n",
       "         [0.36078431, 0.41176471, 0.44313725],\n",
       "         [0.35686275, 0.40784314, 0.44313725],\n",
       "         [0.36470588, 0.41568627, 0.45098039]],\n",
       "\n",
       "        ...,\n",
       "\n",
       "        [[0.31764706, 0.36470588, 0.41176471],\n",
       "         [0.30588235, 0.35294118, 0.4       ],\n",
       "         [0.16862745, 0.21568627, 0.2627451 ],\n",
       "         ...,\n",
       "         [0.39607843, 0.50588235, 0.65098039],\n",
       "         [0.34117647, 0.4745098 , 0.61176471],\n",
       "         [0.36078431, 0.49411765, 0.63137255]],\n",
       "\n",
       "        [[0.29411765, 0.34117647, 0.40392157],\n",
       "         [0.31372549, 0.36078431, 0.42352941],\n",
       "         [0.34901961, 0.39607843, 0.45882353],\n",
       "         ...,\n",
       "         [0.41176471, 0.52156863, 0.67843137],\n",
       "         [0.35294118, 0.48235294, 0.61960784],\n",
       "         [0.36078431, 0.49019608, 0.62745098]],\n",
       "\n",
       "        [[0.24313725, 0.28627451, 0.35686275],\n",
       "         [0.32156863, 0.36470588, 0.43529412],\n",
       "         [0.32941176, 0.37254902, 0.44313725],\n",
       "         ...,\n",
       "         [0.35294118, 0.45882353, 0.62745098],\n",
       "         [0.38039216, 0.4745098 , 0.62352941],\n",
       "         [0.37647059, 0.47058824, 0.61960784]]],\n",
       "\n",
       "\n",
       "       ...,\n",
       "\n",
       "\n",
       "       [[[0.32156863, 0.2627451 , 0.18823529],\n",
       "         [0.34901961, 0.29019608, 0.21568627],\n",
       "         [0.35686275, 0.29803922, 0.22352941],\n",
       "         ...,\n",
       "         [0.41176471, 0.37254902, 0.33333333],\n",
       "         [0.38039216, 0.34901961, 0.30588235],\n",
       "         [0.36862745, 0.3372549 , 0.29411765]],\n",
       "\n",
       "        [[0.33333333, 0.2745098 , 0.2       ],\n",
       "         [0.35686275, 0.29803922, 0.22352941],\n",
       "         [0.36862745, 0.30980392, 0.23529412],\n",
       "         ...,\n",
       "         [0.42352941, 0.38431373, 0.34509804],\n",
       "         [0.39607843, 0.36470588, 0.32156863],\n",
       "         [0.38039216, 0.34901961, 0.30588235]],\n",
       "\n",
       "        [[0.34117647, 0.28235294, 0.20784314],\n",
       "         [0.35294118, 0.29411765, 0.21960784],\n",
       "         [0.37254902, 0.31372549, 0.23921569],\n",
       "         ...,\n",
       "         [0.42745098, 0.38823529, 0.34901961],\n",
       "         [0.41176471, 0.38039216, 0.3372549 ],\n",
       "         [0.38823529, 0.35686275, 0.31372549]],\n",
       "\n",
       "        ...,\n",
       "\n",
       "        [[0.57254902, 0.55294118, 0.52941176],\n",
       "         [0.59607843, 0.57254902, 0.58039216],\n",
       "         [0.64313725, 0.62745098, 0.59215686],\n",
       "         ...,\n",
       "         [0.36470588, 0.3254902 , 0.32156863],\n",
       "         [0.47843137, 0.45882353, 0.43529412],\n",
       "         [0.4745098 , 0.43529412, 0.43921569]],\n",
       "\n",
       "        [[0.52156863, 0.50588235, 0.4627451 ],\n",
       "         [0.60784314, 0.58431373, 0.59215686],\n",
       "         [0.60784314, 0.58823529, 0.57254902],\n",
       "         ...,\n",
       "         [0.47058824, 0.38823529, 0.38431373],\n",
       "         [0.49803922, 0.47843137, 0.46666667],\n",
       "         [0.4745098 , 0.45490196, 0.43921569]],\n",
       "\n",
       "        [[0.52941176, 0.51372549, 0.47058824],\n",
       "         [0.58431373, 0.56078431, 0.56862745],\n",
       "         [0.56078431, 0.54117647, 0.5254902 ],\n",
       "         ...,\n",
       "         [0.50196078, 0.41960784, 0.41568627],\n",
       "         [0.45098039, 0.43137255, 0.41960784],\n",
       "         [0.31372549, 0.29411765, 0.27843137]]],\n",
       "\n",
       "\n",
       "       [[[0.99607843, 0.99607843, 0.96470588],\n",
       "         [0.99607843, 0.99607843, 0.96470588],\n",
       "         [0.99607843, 0.99607843, 0.96470588],\n",
       "         ...,\n",
       "         [0.99607843, 0.99607843, 0.96470588],\n",
       "         [0.99607843, 0.99607843, 0.96470588],\n",
       "         [0.38039216, 0.42352941, 0.4       ]],\n",
       "\n",
       "        [[0.99607843, 0.99607843, 0.96470588],\n",
       "         [0.99607843, 0.99607843, 0.96470588],\n",
       "         [0.99607843, 0.99607843, 0.96470588],\n",
       "         ...,\n",
       "         [0.99607843, 0.99607843, 0.96470588],\n",
       "         [0.95294118, 0.97647059, 0.96078431],\n",
       "         [0.17254902, 0.21960784, 0.21960784]],\n",
       "\n",
       "        [[1.        , 0.98823529, 0.95686275],\n",
       "         [1.        , 0.98823529, 0.95686275],\n",
       "         [1.        , 0.98823529, 0.95686275],\n",
       "         ...,\n",
       "         [1.        , 0.98823529, 0.97647059],\n",
       "         [0.67058824, 0.71764706, 0.67843137],\n",
       "         [0.10980392, 0.12941176, 0.15294118]],\n",
       "\n",
       "        ...,\n",
       "\n",
       "        [[0.03921569, 0.0745098 , 0.05490196],\n",
       "         [0.2627451 , 0.29803922, 0.27843137],\n",
       "         [0.0627451 , 0.09803922, 0.07843137],\n",
       "         ...,\n",
       "         [0.2745098 , 0.29411765, 0.26666667],\n",
       "         [0.21176471, 0.22745098, 0.22352941],\n",
       "         [0.23921569, 0.25490196, 0.25098039]],\n",
       "\n",
       "        [[0.04313725, 0.0627451 , 0.04705882],\n",
       "         [0.28627451, 0.30588235, 0.29019608],\n",
       "         [0.08235294, 0.10196078, 0.08627451],\n",
       "         ...,\n",
       "         [0.23921569, 0.25490196, 0.25882353],\n",
       "         [0.18431373, 0.2       , 0.20392157],\n",
       "         [0.21568627, 0.23137255, 0.23529412]],\n",
       "\n",
       "        [[0.05098039, 0.07058824, 0.05490196],\n",
       "         [0.30588235, 0.3254902 , 0.30980392],\n",
       "         [0.01176471, 0.03137255, 0.01568627],\n",
       "         ...,\n",
       "         [0.22745098, 0.24313725, 0.24705882],\n",
       "         [0.21568627, 0.23137255, 0.23529412],\n",
       "         [0.21176471, 0.22745098, 0.23137255]]],\n",
       "\n",
       "\n",
       "       [[[0.00392157, 0.00392157, 0.00392157],\n",
       "         [0.00392157, 0.00392157, 0.00392157],\n",
       "         [0.00392157, 0.00392157, 0.00392157],\n",
       "         ...,\n",
       "         [0.00392157, 0.00392157, 0.00392157],\n",
       "         [0.00392157, 0.00392157, 0.00392157],\n",
       "         [0.00392157, 0.00392157, 0.00392157]],\n",
       "\n",
       "        [[0.00392157, 0.00392157, 0.00392157],\n",
       "         [0.00392157, 0.00392157, 0.00392157],\n",
       "         [0.00392157, 0.00392157, 0.00392157],\n",
       "         ...,\n",
       "         [0.00392157, 0.00392157, 0.00392157],\n",
       "         [0.00392157, 0.00392157, 0.00392157],\n",
       "         [0.00392157, 0.00392157, 0.00392157]],\n",
       "\n",
       "        [[0.00392157, 0.00392157, 0.00392157],\n",
       "         [0.00392157, 0.00392157, 0.00392157],\n",
       "         [0.00392157, 0.00392157, 0.00392157],\n",
       "         ...,\n",
       "         [0.00392157, 0.00392157, 0.00392157],\n",
       "         [0.00392157, 0.00392157, 0.00392157],\n",
       "         [0.00392157, 0.00392157, 0.00392157]],\n",
       "\n",
       "        ...,\n",
       "\n",
       "        [[0.96470588, 0.97647059, 0.99607843],\n",
       "         [0.96078431, 0.97254902, 0.99215686],\n",
       "         [0.95294118, 0.96470588, 0.98431373],\n",
       "         ...,\n",
       "         [0.70196078, 0.71372549, 0.73333333],\n",
       "         [0.67843137, 0.69019608, 0.70980392],\n",
       "         [0.7254902 , 0.7372549 , 0.75686275]],\n",
       "\n",
       "        [[0.94117647, 0.95294118, 0.97254902],\n",
       "         [0.94901961, 0.96078431, 0.98039216],\n",
       "         [0.95686275, 0.96862745, 0.98823529],\n",
       "         ...,\n",
       "         [0.69803922, 0.72941176, 0.74117647],\n",
       "         [0.76078431, 0.79215686, 0.80392157],\n",
       "         [0.7372549 , 0.76862745, 0.78039216]],\n",
       "\n",
       "        [[0.94509804, 0.95686275, 0.97647059],\n",
       "         [0.94117647, 0.95294118, 0.97254902],\n",
       "         [0.94901961, 0.96078431, 0.98039216],\n",
       "         ...,\n",
       "         [0.64705882, 0.67843137, 0.69019608],\n",
       "         [0.65490196, 0.68627451, 0.69803922],\n",
       "         [0.76470588, 0.79607843, 0.80784314]]]])"
      ]
     },
     "metadata": {},
     "output_type": "display_data"
    }
   ],
   "source": [
    "display(train)"
   ]
  },
  {
   "cell_type": "markdown",
   "metadata": {},
   "source": [
    "Zanim przejdziemy do kolejnego kroku musimy zaimportować tabelę zawierającą etykiety oraz id zdjęć. "
   ]
  },
  {
   "cell_type": "code",
   "execution_count": 66,
   "metadata": {},
   "outputs": [
    {
     "data": {
      "text/html": [
       "<div>\n",
       "<style scoped>\n",
       "    .dataframe tbody tr th:only-of-type {\n",
       "        vertical-align: middle;\n",
       "    }\n",
       "\n",
       "    .dataframe tbody tr th {\n",
       "        vertical-align: top;\n",
       "    }\n",
       "\n",
       "    .dataframe thead th {\n",
       "        text-align: right;\n",
       "    }\n",
       "</style>\n",
       "<table border=\"1\" class=\"dataframe\">\n",
       "  <thead>\n",
       "    <tr style=\"text-align: right;\">\n",
       "      <th></th>\n",
       "      <th>id</th>\n",
       "      <th>breed</th>\n",
       "    </tr>\n",
       "  </thead>\n",
       "  <tbody>\n",
       "    <tr>\n",
       "      <td>0</td>\n",
       "      <td>000bec180eb18c7604dcecc8fe0dba07</td>\n",
       "      <td>boston_bull</td>\n",
       "    </tr>\n",
       "    <tr>\n",
       "      <td>1</td>\n",
       "      <td>001513dfcb2ffafc82cccf4d8bbaba97</td>\n",
       "      <td>dingo</td>\n",
       "    </tr>\n",
       "    <tr>\n",
       "      <td>2</td>\n",
       "      <td>001cdf01b096e06d78e9e5112d419397</td>\n",
       "      <td>pekinese</td>\n",
       "    </tr>\n",
       "    <tr>\n",
       "      <td>3</td>\n",
       "      <td>00214f311d5d2247d5dfe4fe24b2303d</td>\n",
       "      <td>bluetick</td>\n",
       "    </tr>\n",
       "    <tr>\n",
       "      <td>4</td>\n",
       "      <td>0021f9ceb3235effd7fcde7f7538ed62</td>\n",
       "      <td>golden_retriever</td>\n",
       "    </tr>\n",
       "  </tbody>\n",
       "</table>\n",
       "</div>"
      ],
      "text/plain": [
       "                                 id             breed\n",
       "0  000bec180eb18c7604dcecc8fe0dba07       boston_bull\n",
       "1  001513dfcb2ffafc82cccf4d8bbaba97             dingo\n",
       "2  001cdf01b096e06d78e9e5112d419397          pekinese\n",
       "3  00214f311d5d2247d5dfe4fe24b2303d          bluetick\n",
       "4  0021f9ceb3235effd7fcde7f7538ed62  golden_retriever"
      ]
     },
     "execution_count": 66,
     "metadata": {},
     "output_type": "execute_result"
    }
   ],
   "source": [
    "labels = pd.read_csv(\"dataset/labels.csv\") \n",
    "# Preview the first 5 lines of the loaded data \n",
    "labels.head()"
   ]
  },
  {
   "cell_type": "markdown",
   "metadata": {},
   "source": [
    "Wykorzystywane obrazy mają różne wymiary. W naszym modelu musimy zmienić ich rozmiar do tego samego kształtu. Używamy powszechnej praktyki, aby przekształcić je w kwadrat. Musimy również znormalizować nasz zestaw danych, dzieląc przez 255 wszystkie wartości pikseli. Nowe wartości pikseli będą w zakresie [0,1]."
   ]
  },
  {
   "cell_type": "code",
   "execution_count": 69,
   "metadata": {},
   "outputs": [],
   "source": [
    "image_resize = 60\n",
    "nwidth = image_resize\n",
    "nheight = image_resize\n",
    "\n",
    "# nwidth x nheight = number of features because images are nwidth x nheight pixels\n",
    "s = (len(labels['breed']), nwidth, nheight,3) \n",
    "allImage = np.zeros(s)\n",
    "\n",
    "i = 0\n",
    "for f, breed in labels.values:\n",
    "    image = PIL.Image.open('dataset/train/{}.jpg'.format(f))\n",
    "    image = image.resize((nwidth, nheight))\n",
    "    image = np.array(image)\n",
    "    image = np.clip(image/255.0, 0.0, 1.0) # 255 = max of the value of a pixel\n",
    "    i += 1\n",
    "    allImage[i-1]=image\n",
    "\n",
    "    train = allImage"
   ]
  },
  {
   "cell_type": "markdown",
   "metadata": {},
   "source": [
    "Aby sprawdzić, czy obrazki wczytały się poprawnie, warto wyświetlić jeden z nich. "
   ]
  },
  {
   "cell_type": "code",
   "execution_count": 74,
   "metadata": {},
   "outputs": [
    {
     "data": {
      "image/png": "[encoded data removed]",
      "text/plain": [
       "<Figure size 432x288 with 1 Axes>"
      ]
     },
     "metadata": {
      "needs_background": "light"
     },
     "output_type": "display_data"
    }
   ],
   "source": [
    "sample_img = train[200,:,:,:]\n",
    "plt.imshow(sample_img)\n",
    "plt.show()"
   ]
  },
  {
   "cell_type": "code",
   "execution_count": null,
   "metadata": {},
   "outputs": [],
   "source": []
  }
 ],
 "metadata": {
  "kernelspec": {
   "display_name": "Python 3",
   "language": "python",
   "name": "python3"
  },
  "language_info": {
   "codemirror_mode": {
    "name": "ipython",
    "version": 3
   },
   "file_extension": ".py",
   "mimetype": "text/x-python",
   "name": "python",
   "nbconvert_exporter": "python",
   "pygments_lexer": "ipython3",
   "version": "3.7.4"
  }
 },
 "nbformat": 4,
 "nbformat_minor": 2
}
