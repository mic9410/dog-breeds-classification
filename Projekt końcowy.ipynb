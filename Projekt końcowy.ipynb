{
 "cells": [
  {
   "cell_type": "markdown",
   "metadata": {},
   "source": [
    "#  Podstawy Aproksymacji (część II): Deep Learning\n",
    "\n",
    "\n",
    "##  Projekt: Rozpoznawanie ras psów z wykorzystaniem biblioteki Keras.\n",
    "\n",
    "### Temat został opracowany przez:\n",
    "### Michał Foryt - nr indeksu: 84172, adres e-mail: mf84172@student.sgh.waw.pl\n",
    "### Szczepan Gabiec - nr indeksu: 101697, adres e-mail: sg101697@student.sgh.waw.pl\n",
    "### Paweł Wróblewski - nr indeksu: 78793, adres e-mail: pw78793@student.sgh.waw.pl\n",
    "\n",
    "<img src=\"meme2.jpg\" style=\"width: 400px;\">\n",
    "\n",
    "## Wprowadzenie\n",
    "\n",
    "Celem projektu jest stworzenie algorytmu służącego do rozpoznawaniu ras psów porzy wykorzystaniu biblioteki Keras, w oparciu o TensorFlow. Zbiór z którego korzystaliśmy pochodzi z jednego z konkursów zorganizowanych przez portal Kaggle i znajduje się pod tym linkiem: https://www.kaggle.com/c/dog-breed-identification. Z uwagi na jego rozmiar (~750MB) nie bedzie on dołączony bezpośrednio do kodu.  \n",
    "\n",
    "W skład zbioru wchodzi około 10 tysięcy zdjęć, a wśród nich można wyróźnić 120 klas (ras psów). Pracując na tych danych, będziemy mogli stworzyć algorytm bazujący na głębokim uczeniu sieci neuronowych. W dużym uproszczeniu, zadaniem tego typu algorytmu jest rozpoznawanie obrazów podobnie, jak robi to umysł ludzki - \"oglądając\" ogromną pulę zdjęć z czasem rozpoznaje charakterystyczne cechy dla danego obiektu, przykładowo że rottweilera można poznać po tym, że jest duży i ma krótką, ciemną sierść, a york ma krótkie łapy i jest mocno owłosiony. Innymi słowy, algorytm najpierw zbiera dużą ilość danych, a następnie pozwala komputerowi zapoznać się z każdym z nich. Opierając się na dużych bazach danych i zauważając pojawiające się wzorce, komputery mogą rozpoznać obrazy i sformułować odpowiednie tagi i kategorie.\n",
    "\n"
   ]
  },
  {
   "cell_type": "markdown",
   "metadata": {},
   "source": [
    "## 1. Konwolucyjne Sieci Neuronowe \n",
    "Konwolucyjne Sieci Neuronowe (ang. <i>CNN, Convolutional neural networks</i>, tłumaczone także jako <i>Splotowe Sieci Neuronowe</i>) w sprytny sposób redukują liczbę przyjmowanych parametrów. Zamiast działać na sieci, w której neurony są połączone każdy z każdym, podejście jakie prezentują CNN wykorzystują wielokrotnie te same parametry. Kluczem do sukcesu konwolucyjnych sieci jest fakt, że wychodza one z założenia, że wystarczy lokalne zrozumienie obrazu. Innymi słowy, algorytm skupia się na tym, by  stopniowo filtrować różne części danych uczących i wyostrzać ważne cechy w procesie dyskryminacji wykorzystanym do rozpoznawania lub klasyfikacji wzorców. W praktyce zaletą takiego podejścia jest posiadanie mniejszej liczby parametrów, co przekłada się na znaczne zmniejszenie czasu potrzebnego do wytrenowania modelu.\n",
    "\n",
    "Rozważmy obraz o wymiarze 256 × 256 pikseli. Zamiast przetwarzać cały obraz naraz, CNN może skutecznie skanować go po kawałku - powiedzmy, patrząc na fragment o wymiarach 5 × 5. Taka ramka o wymiarach 5 × 5px przesuwa się wzdłuż obrazu (zwykle od lewej do prawej i od góry do dołu), jak pokazano na poniższym rysunku. \n",
    "\n",
    "<img src=\"cnn_concept.jpeg\" style=\"width: 350px;\">\n",
    "\n",
    "Tempo przesuwania się takiej ramki nazywamy \"długością kroku\". Na przykład długość kroku 2 oznacza, że okno 5 × 5 przesuwa się o 2 piksele na raz, aż obejmie cały obraz. Taka ramka 5 x 5 pikseli przekłada się na macierz wag o wymiarze 5 x 5. \n",
    "\n",
    "Tego typu operacja ma miejsce w warstwie konwolucyjnej sieci neuronowej. Typowa CNN posiada wiele tego typu warste. Każda z nich zazwyczaj generuje wiele różnych splotów (ang. <i>convolutions</i>). Co za tym idzie, macierz wagowa takiego tensora (czyli obiektu matematycznego będącego uogólnieniem pojęcia wektora) ma wymiary 5 × 5 x n, gdzie n liczbą konwolucji (splotów).\n",
    "\n",
    "Przykładowo, załóżmy że przepuszczamy rozważany obraz przez pojedynczą warstwę splotu jako macierz wagowa 5 x 5 x 64 z ramką 5 x 5. Co za ty idzie, taki model posiada 5 x 5 x64 = 1600 parametrów, podczas gdy pełna sieć dla obrazu 256 x 256px wymagałaby zastosowania 65 536 parametrów."
   ]
  },
  {
   "cell_type": "markdown",
   "metadata": {},
   "source": [
    "## 2. Przetworzenie zbioru danych\n",
    "Jak już wspomnielismy na początku, wykorzystamy zbiór danych dotyczący rozpoznawania ras psów, który wstępnie został już podzielony na zbiór treningowy i testowy. Nazwa każdego z obrazów jest też jednocześnie jego unikalnym id. Cały zestaw danych zawiera zdjęcia 120 ras, jednak dla urposzczenia modelu przyjmiemy założenie, że ograniczamy się jedynie do rozpoznawania 8 najpopularniejszych."
   ]
  },
  {
   "cell_type": "markdown",
   "metadata": {},
   "source": [
    "Dla porządku, wszystkie niezbędne importy zastosujemy poniżej. Dzięki temu uzyskamy większa czytelność oraz podcas tworzenia naszej funkcjonalności będziemy mieli pewność, że wszystkie niezbędne paczki zostały już ściągnięte.  "
   ]
  },
  {
   "cell_type": "code",
   "execution_count": 1,
   "metadata": {
    "scrolled": true
   },
   "outputs": [],
   "source": [
    "import pandas as pd\n",
    "import numpy as np\n",
    "import seaborn as sns\n",
    "import matplotlib\n",
    "import os\n",
    "import matplotlib.pyplot as plt\n",
    "from shutil import copyfile\n",
    "import tensorflow as tf\n",
    "from tensorflow import keras as keras\n",
    "from tensorflow.keras.preprocessing.image import ImageDataGenerator, array_to_img, img_to_array, load_img\n",
    "import os\n",
    "import cv2\n",
    "import pandas as pd"
   ]
  },
  {
   "cell_type": "code",
   "execution_count": 2,
   "metadata": {
    "scrolled": true
   },
   "outputs": [],
   "source": [
    "from tensorflow.keras.models import Sequential\n",
    "from tensorflow.keras.layers import Convolution2D\n",
    "from tensorflow.keras.layers import MaxPooling2D\n",
    "from tensorflow.keras.layers import Flatten\n",
    "from tensorflow.keras.layers import Dense\n",
    "from tensorflow.keras.layers import Dropout\n",
    "from tensorflow.keras.layers import Conv2D,Dropout\n",
    "from tensorflow.keras.preprocessing.image import ImageDataGenerator\n",
    "from tensorflow.keras.callbacks import EarlyStopping"
   ]
  },
  {
   "cell_type": "markdown",
   "metadata": {},
   "source": [
    "Czytamy dane z pliku labels, które mapują id zdjęcia z jego opisem. na zbiorze treningowym. "
   ]
  },
  {
   "cell_type": "code",
   "execution_count": 3,
   "metadata": {},
   "outputs": [],
   "source": [
    "labels = pd.read_csv('labels.csv')\n",
    "labels_dict = {i:j for i,j in zip(labels['id'],labels['breed'])}\n",
    "classes = set(labels_dict.values())\n",
    "images = [f for f in os.listdir('train')]"
   ]
  },
  {
   "cell_type": "markdown",
   "metadata": {},
   "source": [
    "Tworzymy nowe katalogi, które zawierają zbiory zdjęć - treningowy i testowy. "
   ]
  },
  {
   "cell_type": "code",
   "execution_count": 4,
   "metadata": {
    "scrolled": true
   },
   "outputs": [],
   "source": [
    "if not os.path.exists('training_images'):\n",
    "        os.makedirs('training_images')\n",
    "\n",
    "if not os.path.exists('validation_images'):\n",
    "    os.makedirs('validation_images')"
   ]
  },
  {
   "cell_type": "markdown",
   "metadata": {},
   "source": [
    "Otwieramy folder z danymi treningowymi. Dla każdego z nich przygotowujemy katalogi, do których następnie będziemy zapisywać zdjęcia ras w osobne podkatalogi."
   ]
  },
  {
   "cell_type": "code",
   "execution_count": 5,
   "metadata": {
    "scrolled": true
   },
   "outputs": [],
   "source": [
    "os.chdir('training_images')\n",
    "for curClass in classes:    \n",
    "    if not os.path.exists(curClass):\n",
    "        os.makedirs(curClass)"
   ]
  },
  {
   "cell_type": "markdown",
   "metadata": {},
   "source": [
    " To samo robimy dla zbioru testowego. "
   ]
  },
  {
   "cell_type": "code",
   "execution_count": 6,
   "metadata": {
    "scrolled": true
   },
   "outputs": [],
   "source": [
    "os.chdir('../validation_images')\n",
    "for curClass in classes:    \n",
    "    if not os.path.exists(curClass):\n",
    "        os.makedirs(curClass)"
   ]
  },
  {
   "cell_type": "markdown",
   "metadata": {},
   "source": [
    "Wracamy do głównego folderu. Po przygotowaniu odpowiednich katalogów możemy je wypełnić. Mamy około 20.5 tysięcy zdjęć, dzielimy je w proporcjach około 40:60 między zbiór treningowy i testowy - pierwsze 8 tysięcy zdjęć kopiujemy do odpowiednich katalogów w części uczącej, a pozostałe zdjęcia do przypisanych folderów w walidującej. "
   ]
  },
  {
   "cell_type": "code",
   "execution_count": 7,
   "metadata": {},
   "outputs": [],
   "source": [
    "os.chdir('..')\n",
    "count = 0 \n",
    "destination_directory = 'training_images/'\n",
    "for item in images:\n",
    "    if count >7999:\n",
    "        destination_directory = 'validation_images/'\n",
    "    filekey = os.path.splitext(item)[0]\n",
    "    target_file = destination_directory+labels_dict[filekey]+'/'+item\n",
    "    if not os.path.exists(target_file):\n",
    "        copyfile('train/'+item, target_file)\n",
    "    count +=1"
   ]
  },
  {
   "cell_type": "markdown",
   "metadata": {},
   "source": [
    "## 3. Image Augmentation - Przekształcenie obrazów\n",
    "Image augmentation to technika polegająca na przekształcaniu oryginalnego obrazu tak, by uzyskać nowe dane testowe. Przykładowo dzieje się to poprzez dodanie szumu albo lustrzane odbicie. Dzięki temu możemy uzyskć więcej zdjęć testowych. W Pythonie, służy do tego klasa ImageDataGenerator, która ustawia parametry takie jak rotacja obrazu przybliżenie czy znieształcenie. Wykorzystamy ją do wygenerowania setek wariacji jednego ze zdjęć.   "
   ]
  },
  {
   "cell_type": "code",
   "execution_count": 8,
   "metadata": {
    "scrolled": true
   },
   "outputs": [],
   "source": [
    "datagen = ImageDataGenerator(\n",
    "        rotation_range=50,\n",
    "        width_shift_range=0.3,\n",
    "        height_shift_range=0.2,\n",
    "        shear_range=0.3,\n",
    "        zoom_range=0.3,\n",
    "        horizontal_flip=True,\n",
    "        fill_mode='nearest')\n",
    "\n",
    "img = load_img('training_images/afghan_hound/0d5a88f0ab2db8d34b533c69768135e8.jpg') \n",
    "x = img_to_array(img)\n",
    "x = x.reshape((1,) + x.shape)\n",
    "\n",
    "i = 0\n",
    "\n",
    "if not os.path.exists('preview'):\n",
    "        os.makedirs('preview')\n",
    "\n",
    "for batch in datagen.flow(x, batch_size=1,\n",
    "                          save_to_dir='preview', save_prefix='dog_breed', save_format='jpeg'):\n",
    "    i += 1\n",
    "    if i > 20:\n",
    "        break  # W przeciwnym pzypadku generator będzie działać w nieskonczoność"
   ]
  },
  {
   "cell_type": "markdown",
   "metadata": {},
   "source": [
    "## 4. Implementacja sieci neuronowej\n",
    "Na początku dokonujemy przekształcenia zbioru testowego. Przeskalowanie to wartość, o którą pomnożymy dane przed jakimkolwiek innym przetwarzaniem. Nasze oryginalne obrazy składają się ze współczynników RGB w zakresie 0–255, ale takie wartości byłyby zbyt wysokie, aby nasz model mógł je przetworzyć (biorąc pod uwagę typowy learning rate), więc zamiast tego celujemy wartości z zakresu od 0 do 1, skalując je z dokładnością 1/255. Z kolei parametr shear_range pozwala przekształcić obraz pod pewnym kątem (bardziej obrazowo - zamiast obrazu w postaci kwadratu otrzymujemy równoległobok), natomiast zoom_range odpowiada za stopień przybliżenia bądź oddalenia obrazka, a horizontal_flip tworzy jego odbicie. Wszystkie te zabiegi mają sprawić, że zbiór treningowy bedzie nieco różnić się od zbioru testowego, by uniknąć nadmiernego dopasowania do danych.\n"
   ]
  },
  {
   "cell_type": "code",
   "execution_count": 9,
   "metadata": {
    "scrolled": true
   },
   "outputs": [],
   "source": [
    "#Train datagen tworzy generator danych testowych\n",
    "train_datagen = ImageDataGenerator(\n",
    "        rescale=1./255,\n",
    "        shear_range=0.2,\n",
    "        zoom_range=0.2,\n",
    "        horizontal_flip=True)\n",
    "\n",
    "#Test_datagen tworzy generator danych walidacyjnych. W tym przypadku jedynie normalizujemy rozmiar zdjęć. \n",
    "test_datagen = ImageDataGenerator(rescale=1./255)"
   ]
  },
  {
   "cell_type": "markdown",
   "metadata": {},
   "source": [
    "Mając stworzone odpowiednie generatory można przystąpić do właśniwego wygenerowania odpowiednich zdjęć. Przekazując parametr class_mode='categorical' unikamy manualanej konwersji etykiet na odpowiednie wektory - generator zrobi to za nas. "
   ]
  },
  {
   "cell_type": "code",
   "execution_count": 10,
   "metadata": {},
   "outputs": [
    {
     "name": "stdout",
     "output_type": "stream",
     "text": [
      "Found 8000 images belonging to 120 classes.\n",
      "Found 2222 images belonging to 120 classes.\n"
     ]
    }
   ],
   "source": [
    "training_set = train_datagen.flow_from_directory(\n",
    "        'training_images',\n",
    "        target_size=(128, 128),\n",
    "        batch_size=20,\n",
    "        class_mode='categorical')\n",
    "\n",
    "test_set = test_datagen.flow_from_directory(\n",
    "        'validation_images',\n",
    "        target_size=(128, 128),\n",
    "        batch_size=20,\n",
    "        class_mode='categorical')"
   ]
  },
  {
   "cell_type": "markdown",
   "metadata": {},
   "source": [
    "Majac już przygotowane dane treningowe i testowe możemy przystąpić do tworzenia modelu sieci konwolucyjnej. Wykorzystamy model sekwencyjny (Sequential), który jest odpowiedni dla zwykłego stosu warstw, gdzie każda warstwa ma dokładnie jeden tensor wejściowy i jeden tensor wyjściowy. Tego typu model nie sprawdziłby się w przypadku, gdy przykładwo model lub którakolwiek z warstw ma wiele wejść lub wyjść."
   ]
  },
  {
   "cell_type": "markdown",
   "metadata": {},
   "source": [
    "Tworzymy pierwszą warstwę, którą dodamy do sieci. Ponieważ dotyczy ona obiektów dwuwymiarowych, wykorzystamy klasę *Conv2D*. Jako parametry w konstruktorze przekazujemy następujace argumenty:   \n",
    "- **filters** - liczba całkowita, określająca wymiar otrzymany na wyjściu (tj. liczba filtrów wyjściowych w konwolucji).\n",
    "- **kernel_size** - lista / krotka składająca się z 2 liczb całkowiych, okreslająca rozmiar okna 2D. \n",
    "- **input_shape** - ponieważ jest to pierwsza warstwa należy podać wektor wejsćiowy. W tym przpyadku będzie to okno 128x128 px, a przez 3 oznaczamy listę 3 elementów - nasycenie odpowiednich barw w notacji RGB. \n",
    "- **activation** - oznacza funckję aktywacji w danej warstwie. W tym przypadku jest to rectified linear unit (ReLU), choć możliwe jest też ustawienie np. funkcji sigmoidalnej lub wykładniczej.  "
   ]
  },
  {
   "cell_type": "markdown",
   "metadata": {},
   "source": [
    "Warstwa łącząca (pooling layer) służy do progresywnej redukcji rozmiaru przestrzennego do zredukowania ilości cech i złożoności obliczeniowej sieci. Najczęściej w sieciach konwolucyjnych stosujemy warstwę MaxPool która przesuwa filtry (tu - 2x2) przez całą macierz wyciągając największą wartość z okna filtra i zapisuje ją do następnej mapy.\n",
    "\n",
    "Najważniejszy powód stosowania warstw łączących jest uchronienie modelu przed przeuczeniem. Czasami stosujemy też warstwę opuszczającą, która zastępuje warstwę łączącą. Należy być ostrożnym przy stosowaniu warstwy łączącej, szczególnie w zadaniach wizyjnych, gdyż może to spowodować utratę lokalnej wrażliwości modelu mimo zmniejszenia rozmiaru modelu.\n",
    "\n",
    "Metoda porzucania (dropout) to także popularny sposób do walki z przetrenowaniem w przypadku sieci neuronowych. Dropout polega na losowym ustawieniu wychodzących krawędzi ukrytych jednostek (neuronów tworzących ukryte warstwy) na 0 przy każdej aktualizacji fazy treningu.\n",
    "\n",
    "Metoda ta jest bardzo efektywna, ponieważ co każde przejście losowo wyłączane są połączenia. Dzięki temu sieć neuronowa nie nauczy się „na pamięć” zbyt szybko, ponieważ architektura co przeliczenie odrobinę się zmienia poprzez zerowanie losowych połączeń neuronów.\n",
    "\n",
    "W Tensorflow dodajemy kolejne warstwy wykorzystując „Dropout” oraz definiując jaka część neuronów ma zostać zapomniana. Np. dla wartości 0.2 zostanie wylosowanych 20% połączeń do wyzerowania."
   ]
  },
  {
   "cell_type": "code",
   "execution_count": 11,
   "metadata": {
    "scrolled": true
   },
   "outputs": [],
   "source": [
    "clf = Sequential()\n",
    "clf.add(Conv2D(32,(3,3),input_shape=(128,128,3),activation='relu'))   \n",
    "clf.add(MaxPooling2D(pool_size=(2,2)))  \n",
    "clf.add(Dropout(0.25))\n",
    "\n",
    "clf.add(Conv2D(64,(3,3), activation='relu'))\n",
    "clf.add(MaxPooling2D(pool_size=(2,2)))\n",
    "clf.add(Dropout(0.3))\n",
    "\n",
    "clf.add(Conv2D(128,(3,3), activation='relu'))\n",
    "clf.add(MaxPooling2D(pool_size=(2,2)))\n",
    "clf.add(Dropout(0.5))\n",
    "\n",
    "\n",
    "clf.add(Conv2D(128,(3,3), activation='relu'))\n",
    "clf.add(MaxPooling2D(pool_size=(2,2)))\n",
    "clf.add(Dropout(0.5))\n",
    "\n",
    "clf.add(Conv2D(64,(3,3), activation='relu'))\n",
    "clf.add(MaxPooling2D(pool_size=(2,2)))\n",
    "clf.add(Dropout(0.3))\n",
    "\n",
    "clf.add(Flatten())\n",
    "        \n",
    "#Adding An ANN\n",
    "clf.add(Dense(units=256,activation='relu'))\n",
    "\n",
    "#clf.add(Dropout(0.5))\n",
    "clf.add(Dense(units=120,activation='softmax'))\n",
    "#stochastic gradient descent -Adam -optimizer\n",
    "#loss func categorical cross entropy\n",
    "#metrics = accuracy\n",
    "\n",
    "clf.compile(optimizer='adam',loss='categorical_crossentropy',metrics=['accuracy'])"
   ]
  },
  {
   "cell_type": "markdown",
   "metadata": {},
   "source": [
    "W tym modelu zastosowaliśmy metodę wczesnego zakończenia (early stopping). Polega na tym, by zakończyć uczenie, gdy strata na zbiorze testowym nie rośnie. Czyli trenując dalej sieć nie poprawiamy mocy modelu na zbiorze testowym. \n",
    "W Tensorflow mamy do dyspozycji funkcję EarlyStopping, która monitoruje stratę na zbiorze testowym po zakończeniu każdej epoki. Jeśli strata nie maleje, wówczas trening sieci zostaje zatrzymany. Należy zdefiniować 3 podstawowe parametry ustawiając early stopping:\n",
    "\n",
    "- **monitor** – definiujemy, co chcemy monitorować na podstawie czego zatrzymamy proces uczenia,\n",
    "- **patience** – tym parametrem definiujemy liczbę epok po ilu zatrzyma się nasz model jeśli nie zaobserwujemy zmniejszania się funkcji straty,\n",
    "- **verbose** – w jaki sposób będzie wyświetlana informacja o early stoping.\n",
    "\n",
    "W naszym modelu skonfigurujemy tylko parametr patience, resztę pozostawiamy domyślnie. "
   ]
  },
  {
   "cell_type": "code",
   "execution_count": 12,
   "metadata": {
    "scrolled": true
   },
   "outputs": [],
   "source": [
    "early_stopping_monitor=EarlyStopping(patience=10)"
   ]
  },
  {
   "cell_type": "markdown",
   "metadata": {},
   "source": [
    "Uruchamiamy metodę *fit*. *keras.fit()* oraz *keras.fit_generator()* stanowią dwie odrębne biblioteki do głębokiego uczenia maszynowego, które mogą być wykorzystane do trenowania zarówno modeli machine learningowych jak i deep learningowych. Obie funkcje wykonują to samo, natomiast z uwagi na to, że *fit_generator* jest już przestarzała, wykorzystamy tę pierwszą metodę.\n",
    "\n",
    "Wykorzystana przez nas metoda przyjmuje następujące parametry:\n",
    "- training_set - zbiór treningowy\n",
    "- steps_per_epoch - to liczba iteracji wsadowych (*batch iterations*), zanim epoka zostanie uznana za zakończoną. Jeśli mamy zestaw treningowy o ustalonym rozmiarze, można go zignorować, ale może być przydatny, jeśli mamy duży zestaw danych lub generujemy losowe rozszerzenia danych.\n",
    "- batch_size - wielkość próbki danych (batch). Określa liczbę próbek w każdej mini partii.\n",
    "- validation_steps - parametr podobny do steps_per_epoch, ale ma zastosowanie w zestawie danych walidacyjnych zamiast w danych szkoleniowych.\n",
    "\n",
    "Aby odnaleźć odpowiednią kombinację zastosowaliśmy różne warianty modelu.\n",
    "- modyfikacja wartości parametru patience (podniesienie wartości z 6 na 10, aby proces nauki nie zakończył się zbyt szybko). \n",
    "- steps_per_epoch - początkowo parametr ten ustawiliśmy na 400, po czym zmienilismy jego wartość na proporcje względem rozmiaru zbioru treningowego (próbowaliśmy podziału przez 16, 8, 4), jednak finalnie uzyskane wartości okazywały się być zbyt niskie. Analogicznie w przypadku validation_steps z tą różnicą, że tutaj braliśmy zbiór testowy. Również czas obiczeń stawał się bardzo długi. \n",
    "- Na poczatku zastosowaliśmy tylko 3 warstwy sieci, po czym zwiększyliśmy jej rozmiar do 5 warstw. Dodatkowo dodaliśmy parametr Dropout, by kontrolować przeuczenie.\n",
    "- Zwiększyliśmy liczbę epok, z 50, przez 75, 100, 120, dochodząc do 180.\n",
    "\n",
    "Zastosowane poprawki pomogły nam poprawić jakość modelu z accuracy równgo 7% do poziomu "
   ]
  },
  {
   "cell_type": "code",
   "execution_count": 13,
   "metadata": {
    "scrolled": false
   },
   "outputs": [
    {
     "name": "stdout",
     "output_type": "stream",
     "text": [
      "Epoch 1/180\n",
      "200/200 [==============================] - 178s 888ms/step - loss: 4.7964 - accuracy: 0.0100 - val_loss: 4.7838 - val_accuracy: 0.0116\n",
      "Epoch 2/180\n",
      "200/200 [==============================] - 185s 926ms/step - loss: 4.7846 - accuracy: 0.0103 - val_loss: 4.7860 - val_accuracy: 0.0091\n",
      "Epoch 3/180\n",
      "200/200 [==============================] - 185s 925ms/step - loss: 4.7781 - accuracy: 0.0122 - val_loss: 4.7838 - val_accuracy: 0.0107\n",
      "Epoch 4/180\n",
      "200/200 [==============================] - 181s 903ms/step - loss: 4.7844 - accuracy: 0.0077 - val_loss: 4.7785 - val_accuracy: 0.0118\n",
      "Epoch 5/180\n",
      "200/200 [==============================] - 158s 789ms/step - loss: 4.7806 - accuracy: 0.0088 - val_loss: 4.7834 - val_accuracy: 0.0125\n",
      "Epoch 6/180\n",
      "200/200 [==============================] - 148s 740ms/step - loss: 4.7808 - accuracy: 0.0125 - val_loss: 4.7836 - val_accuracy: 0.0109\n",
      "Epoch 7/180\n",
      "200/200 [==============================] - 150s 750ms/step - loss: 4.7787 - accuracy: 0.0113 - val_loss: 4.7792 - val_accuracy: 0.0116\n",
      "Epoch 8/180\n",
      "200/200 [==============================] - 146s 728ms/step - loss: 4.7812 - accuracy: 0.0105 - val_loss: 4.7820 - val_accuracy: 0.0172\n",
      "Epoch 9/180\n",
      "200/200 [==============================] - 147s 737ms/step - loss: 4.7800 - accuracy: 0.0082 - val_loss: 4.7757 - val_accuracy: 0.0089\n",
      "Epoch 10/180\n",
      "200/200 [==============================] - 146s 729ms/step - loss: 4.7787 - accuracy: 0.0105 - val_loss: 4.7892 - val_accuracy: 0.0145\n",
      "Epoch 11/180\n",
      "200/200 [==============================] - 169s 845ms/step - loss: 4.7710 - accuracy: 0.0108 - val_loss: 4.7789 - val_accuracy: 0.0107\n",
      "Epoch 12/180\n",
      "200/200 [==============================] - 160s 802ms/step - loss: 4.7560 - accuracy: 0.0162 - val_loss: 4.7198 - val_accuracy: 0.0227\n",
      "Epoch 13/180\n",
      "200/200 [==============================] - 153s 767ms/step - loss: 4.6864 - accuracy: 0.0195 - val_loss: 4.6941 - val_accuracy: 0.0161\n",
      "Epoch 14/180\n",
      "200/200 [==============================] - 150s 752ms/step - loss: 4.6695 - accuracy: 0.0210 - val_loss: 4.6831 - val_accuracy: 0.0227\n",
      "Epoch 15/180\n",
      "200/200 [==============================] - 150s 750ms/step - loss: 4.6174 - accuracy: 0.0217 - val_loss: 4.6270 - val_accuracy: 0.0205\n",
      "Epoch 16/180\n",
      "200/200 [==============================] - 152s 761ms/step - loss: 4.6239 - accuracy: 0.0245 - val_loss: 4.6467 - val_accuracy: 0.0209\n",
      "Epoch 17/180\n",
      "200/200 [==============================] - 150s 750ms/step - loss: 4.6047 - accuracy: 0.0247 - val_loss: 4.6292 - val_accuracy: 0.0196\n",
      "Epoch 18/180\n",
      "200/200 [==============================] - 150s 751ms/step - loss: 4.6106 - accuracy: 0.0237 - val_loss: 4.6862 - val_accuracy: 0.0154\n",
      "Epoch 19/180\n",
      "200/200 [==============================] - 148s 740ms/step - loss: 4.5726 - accuracy: 0.0295 - val_loss: 4.6593 - val_accuracy: 0.0188\n",
      "Epoch 20/180\n",
      "200/200 [==============================] - 146s 728ms/step - loss: 4.5793 - accuracy: 0.0262 - val_loss: 4.6392 - val_accuracy: 0.0254\n",
      "Epoch 21/180\n",
      "200/200 [==============================] - 157s 783ms/step - loss: 4.5542 - accuracy: 0.0290 - val_loss: 4.6196 - val_accuracy: 0.0116\n",
      "Epoch 22/180\n",
      "200/200 [==============================] - 160s 800ms/step - loss: 4.5661 - accuracy: 0.0292 - val_loss: 4.6002 - val_accuracy: 0.0191\n",
      "Epoch 23/180\n",
      "200/200 [==============================] - 157s 785ms/step - loss: 4.5322 - accuracy: 0.0335 - val_loss: 4.6313 - val_accuracy: 0.0223\n",
      "Epoch 24/180\n",
      "200/200 [==============================] - 177s 884ms/step - loss: 4.5261 - accuracy: 0.0355 - val_loss: 4.6462 - val_accuracy: 0.0200\n",
      "Epoch 25/180\n",
      "200/200 [==============================] - 195s 977ms/step - loss: 4.4911 - accuracy: 0.0342 - val_loss: 4.6105 - val_accuracy: 0.0152\n",
      "Epoch 26/180\n",
      "200/200 [==============================] - 137s 684ms/step - loss: 4.5298 - accuracy: 0.0312 - val_loss: 4.5883 - val_accuracy: 0.0227\n",
      "Epoch 27/180\n",
      "200/200 [==============================] - 135s 673ms/step - loss: 4.4755 - accuracy: 0.0388 - val_loss: 4.5633 - val_accuracy: 0.0330\n",
      "Epoch 28/180\n",
      "200/200 [==============================] - 151s 754ms/step - loss: 4.5032 - accuracy: 0.0340 - val_loss: 4.5629 - val_accuracy: 0.0318\n",
      "Epoch 29/180\n",
      "200/200 [==============================] - 141s 703ms/step - loss: 4.4695 - accuracy: 0.0380 - val_loss: 4.5792 - val_accuracy: 0.0268\n",
      "Epoch 30/180\n",
      "200/200 [==============================] - 128s 641ms/step - loss: 4.4525 - accuracy: 0.0355 - val_loss: 4.5475 - val_accuracy: 0.0336\n",
      "Epoch 31/180\n",
      "200/200 [==============================] - 133s 666ms/step - loss: 4.4191 - accuracy: 0.0410 - val_loss: 4.5485 - val_accuracy: 0.0375\n",
      "Epoch 32/180\n",
      "200/200 [==============================] - 125s 624ms/step - loss: 4.4521 - accuracy: 0.0415 - val_loss: 4.5838 - val_accuracy: 0.0309\n",
      "Epoch 33/180\n",
      "200/200 [==============================] - 122s 608ms/step - loss: 4.4178 - accuracy: 0.0475 - val_loss: 4.5737 - val_accuracy: 0.0232\n",
      "Epoch 34/180\n",
      "200/200 [==============================] - 120s 602ms/step - loss: 4.4172 - accuracy: 0.0393 - val_loss: 4.5351 - val_accuracy: 0.0345\n",
      "Epoch 35/180\n",
      "200/200 [==============================] - 120s 602ms/step - loss: 4.3920 - accuracy: 0.0470 - val_loss: 4.6381 - val_accuracy: 0.0250\n",
      "Epoch 36/180\n",
      "200/200 [==============================] - 119s 596ms/step - loss: 4.4040 - accuracy: 0.0448 - val_loss: 4.5313 - val_accuracy: 0.0236\n",
      "Epoch 37/180\n",
      "200/200 [==============================] - 119s 596ms/step - loss: 4.3752 - accuracy: 0.0457 - val_loss: 4.5224 - val_accuracy: 0.0295\n",
      "Epoch 38/180\n",
      "200/200 [==============================] - 121s 604ms/step - loss: 4.3837 - accuracy: 0.0457 - val_loss: 4.6520 - val_accuracy: 0.0327\n",
      "Epoch 39/180\n",
      "200/200 [==============================] - 119s 594ms/step - loss: 4.3438 - accuracy: 0.0520 - val_loss: 4.5965 - val_accuracy: 0.0250\n",
      "Epoch 40/180\n",
      "200/200 [==============================] - 118s 591ms/step - loss: 4.3795 - accuracy: 0.0445 - val_loss: 4.4570 - val_accuracy: 0.0290\n",
      "Epoch 41/180\n",
      "200/200 [==============================] - 120s 601ms/step - loss: 4.3376 - accuracy: 0.0535 - val_loss: 4.5818 - val_accuracy: 0.0286\n",
      "Epoch 42/180\n",
      "200/200 [==============================] - 119s 593ms/step - loss: 4.3371 - accuracy: 0.0428 - val_loss: 4.5091 - val_accuracy: 0.0318\n",
      "Epoch 43/180\n",
      "200/200 [==============================] - 120s 598ms/step - loss: 4.3439 - accuracy: 0.0452 - val_loss: 4.5196 - val_accuracy: 0.0437\n",
      "Epoch 44/180\n",
      "200/200 [==============================] - 120s 598ms/step - loss: 4.3380 - accuracy: 0.0538 - val_loss: 4.4374 - val_accuracy: 0.0272\n",
      "Epoch 45/180\n",
      "200/200 [==============================] - 120s 601ms/step - loss: 4.3299 - accuracy: 0.0523 - val_loss: 4.4642 - val_accuracy: 0.0455\n",
      "Epoch 46/180\n",
      "200/200 [==============================] - 121s 607ms/step - loss: 4.3113 - accuracy: 0.0477 - val_loss: 4.4271 - val_accuracy: 0.0299\n",
      "Epoch 47/180\n",
      "200/200 [==============================] - 120s 598ms/step - loss: 4.3000 - accuracy: 0.0525 - val_loss: 4.4975 - val_accuracy: 0.0464\n",
      "Epoch 48/180\n",
      "200/200 [==============================] - 120s 600ms/step - loss: 4.3274 - accuracy: 0.0510 - val_loss: 4.4997 - val_accuracy: 0.0327\n",
      "Epoch 49/180\n",
      "200/200 [==============================] - 120s 599ms/step - loss: 4.2891 - accuracy: 0.0613 - val_loss: 4.4027 - val_accuracy: 0.0455\n",
      "Epoch 50/180\n",
      "200/200 [==============================] - 119s 595ms/step - loss: 4.2998 - accuracy: 0.0507 - val_loss: 4.4636 - val_accuracy: 0.0372\n",
      "Epoch 51/180\n",
      "200/200 [==============================] - 118s 592ms/step - loss: 4.2869 - accuracy: 0.0545 - val_loss: 4.4702 - val_accuracy: 0.0393\n",
      "Epoch 52/180\n",
      "200/200 [==============================] - 121s 603ms/step - loss: 4.2853 - accuracy: 0.0553 - val_loss: 4.4978 - val_accuracy: 0.0390\n",
      "Epoch 53/180\n",
      "200/200 [==============================] - 122s 609ms/step - loss: 4.2848 - accuracy: 0.0535 - val_loss: 4.4760 - val_accuracy: 0.0339\n",
      "Epoch 54/180\n",
      "200/200 [==============================] - 119s 596ms/step - loss: 4.2861 - accuracy: 0.0518 - val_loss: 4.4299 - val_accuracy: 0.0408\n",
      "Epoch 55/180\n",
      "200/200 [==============================] - 120s 600ms/step - loss: 4.2341 - accuracy: 0.0615 - val_loss: 4.4730 - val_accuracy: 0.0357\n",
      "Epoch 56/180\n"
     ]
    },
    {
     "name": "stdout",
     "output_type": "stream",
     "text": [
      "200/200 [==============================] - 118s 589ms/step - loss: 4.2751 - accuracy: 0.0535 - val_loss: 4.4086 - val_accuracy: 0.0417\n",
      "Epoch 57/180\n",
      "200/200 [==============================] - 118s 589ms/step - loss: 4.2716 - accuracy: 0.0555 - val_loss: 4.4601 - val_accuracy: 0.0408\n",
      "Epoch 58/180\n",
      "200/200 [==============================] - 119s 594ms/step - loss: 4.2570 - accuracy: 0.0560 - val_loss: 4.4484 - val_accuracy: 0.0429\n",
      "Epoch 59/180\n",
      "200/200 [==============================] - 119s 595ms/step - loss: 4.2441 - accuracy: 0.0540 - val_loss: 4.4185 - val_accuracy: 0.0436\n"
     ]
    }
   ],
   "source": [
    "hist=clf.fit(\n",
    "        training_set,\n",
    "        steps_per_epoch=len(training_set)/2, \n",
    "        validation_steps=len(test_set)/2,\n",
    "        epochs=180,\n",
    "        validation_data=test_set,\n",
    "        callbacks=[early_stopping_monitor])"
   ]
  },
  {
   "cell_type": "markdown",
   "metadata": {},
   "source": [
    "Mając wytrenowany model możemy go przetestować. W tym celu najpierw normalizujemy rozmiar zdjęć, a następnie wykorzystując metodę *predict* stosujemy nasz model do klasyfikacji danych testowych.   "
   ]
  },
  {
   "cell_type": "code",
   "execution_count": 14,
   "metadata": {
    "scrolled": true
   },
   "outputs": [],
   "source": [
    "test_set = []\n",
    "test_set_ids = []\n",
    "for curImage in os.listdir('test'):\n",
    "    test_set_ids.append(os.path.splitext(curImage)[0])\n",
    "    curImage = cv2.imread('test/'+curImage)\n",
    "    test_set.append(cv2.resize(curImage,(128, 128)))"
   ]
  },
  {
   "cell_type": "code",
   "execution_count": 15,
   "metadata": {
    "scrolled": true
   },
   "outputs": [],
   "source": [
    "test_set = np.array(test_set, np.float32)/255.0"
   ]
  },
  {
   "cell_type": "code",
   "execution_count": 16,
   "metadata": {
    "scrolled": true
   },
   "outputs": [],
   "source": [
    "predictions = clf.predict(test_set)"
   ]
  },
  {
   "cell_type": "code",
   "execution_count": 17,
   "metadata": {
    "scrolled": true
   },
   "outputs": [
    {
     "data": {
      "text/plain": [
       "(120,)"
      ]
     },
     "execution_count": 17,
     "metadata": {},
     "output_type": "execute_result"
    }
   ],
   "source": [
    "predictions[0].shape"
   ]
  },
  {
   "cell_type": "markdown",
   "metadata": {},
   "source": [
    "Poniżej lista poszczególnych ras wraz z przypisanymi id."
   ]
  },
  {
   "cell_type": "code",
   "execution_count": 18,
   "metadata": {
    "scrolled": true
   },
   "outputs": [
    {
     "data": {
      "text/plain": [
       "{'affenpinscher': 0,\n",
       " 'afghan_hound': 1,\n",
       " 'african_hunting_dog': 2,\n",
       " 'airedale': 3,\n",
       " 'american_staffordshire_terrier': 4,\n",
       " 'appenzeller': 5,\n",
       " 'australian_terrier': 6,\n",
       " 'basenji': 7,\n",
       " 'basset': 8,\n",
       " 'beagle': 9,\n",
       " 'bedlington_terrier': 10,\n",
       " 'bernese_mountain_dog': 11,\n",
       " 'black-and-tan_coonhound': 12,\n",
       " 'blenheim_spaniel': 13,\n",
       " 'bloodhound': 14,\n",
       " 'bluetick': 15,\n",
       " 'border_collie': 16,\n",
       " 'border_terrier': 17,\n",
       " 'borzoi': 18,\n",
       " 'boston_bull': 19,\n",
       " 'bouvier_des_flandres': 20,\n",
       " 'boxer': 21,\n",
       " 'brabancon_griffon': 22,\n",
       " 'briard': 23,\n",
       " 'brittany_spaniel': 24,\n",
       " 'bull_mastiff': 25,\n",
       " 'cairn': 26,\n",
       " 'cardigan': 27,\n",
       " 'chesapeake_bay_retriever': 28,\n",
       " 'chihuahua': 29,\n",
       " 'chow': 30,\n",
       " 'clumber': 31,\n",
       " 'cocker_spaniel': 32,\n",
       " 'collie': 33,\n",
       " 'curly-coated_retriever': 34,\n",
       " 'dandie_dinmont': 35,\n",
       " 'dhole': 36,\n",
       " 'dingo': 37,\n",
       " 'doberman': 38,\n",
       " 'english_foxhound': 39,\n",
       " 'english_setter': 40,\n",
       " 'english_springer': 41,\n",
       " 'entlebucher': 42,\n",
       " 'eskimo_dog': 43,\n",
       " 'flat-coated_retriever': 44,\n",
       " 'french_bulldog': 45,\n",
       " 'german_shepherd': 46,\n",
       " 'german_short-haired_pointer': 47,\n",
       " 'giant_schnauzer': 48,\n",
       " 'golden_retriever': 49,\n",
       " 'gordon_setter': 50,\n",
       " 'great_dane': 51,\n",
       " 'great_pyrenees': 52,\n",
       " 'greater_swiss_mountain_dog': 53,\n",
       " 'groenendael': 54,\n",
       " 'ibizan_hound': 55,\n",
       " 'irish_setter': 56,\n",
       " 'irish_terrier': 57,\n",
       " 'irish_water_spaniel': 58,\n",
       " 'irish_wolfhound': 59,\n",
       " 'italian_greyhound': 60,\n",
       " 'japanese_spaniel': 61,\n",
       " 'keeshond': 62,\n",
       " 'kelpie': 63,\n",
       " 'kerry_blue_terrier': 64,\n",
       " 'komondor': 65,\n",
       " 'kuvasz': 66,\n",
       " 'labrador_retriever': 67,\n",
       " 'lakeland_terrier': 68,\n",
       " 'leonberg': 69,\n",
       " 'lhasa': 70,\n",
       " 'malamute': 71,\n",
       " 'malinois': 72,\n",
       " 'maltese_dog': 73,\n",
       " 'mexican_hairless': 74,\n",
       " 'miniature_pinscher': 75,\n",
       " 'miniature_poodle': 76,\n",
       " 'miniature_schnauzer': 77,\n",
       " 'newfoundland': 78,\n",
       " 'norfolk_terrier': 79,\n",
       " 'norwegian_elkhound': 80,\n",
       " 'norwich_terrier': 81,\n",
       " 'old_english_sheepdog': 82,\n",
       " 'otterhound': 83,\n",
       " 'papillon': 84,\n",
       " 'pekinese': 85,\n",
       " 'pembroke': 86,\n",
       " 'pomeranian': 87,\n",
       " 'pug': 88,\n",
       " 'redbone': 89,\n",
       " 'rhodesian_ridgeback': 90,\n",
       " 'rottweiler': 91,\n",
       " 'saint_bernard': 92,\n",
       " 'saluki': 93,\n",
       " 'samoyed': 94,\n",
       " 'schipperke': 95,\n",
       " 'scotch_terrier': 96,\n",
       " 'scottish_deerhound': 97,\n",
       " 'sealyham_terrier': 98,\n",
       " 'shetland_sheepdog': 99,\n",
       " 'shih-tzu': 100,\n",
       " 'siberian_husky': 101,\n",
       " 'silky_terrier': 102,\n",
       " 'soft-coated_wheaten_terrier': 103,\n",
       " 'staffordshire_bullterrier': 104,\n",
       " 'standard_poodle': 105,\n",
       " 'standard_schnauzer': 106,\n",
       " 'sussex_spaniel': 107,\n",
       " 'tibetan_mastiff': 108,\n",
       " 'tibetan_terrier': 109,\n",
       " 'toy_poodle': 110,\n",
       " 'toy_terrier': 111,\n",
       " 'vizsla': 112,\n",
       " 'walker_hound': 113,\n",
       " 'weimaraner': 114,\n",
       " 'welsh_springer_spaniel': 115,\n",
       " 'west_highland_white_terrier': 116,\n",
       " 'whippet': 117,\n",
       " 'wire-haired_fox_terrier': 118,\n",
       " 'yorkshire_terrier': 119}"
      ]
     },
     "execution_count": 18,
     "metadata": {},
     "output_type": "execute_result"
    }
   ],
   "source": [
    "training_set.class_indices"
   ]
  },
  {
   "cell_type": "code",
   "execution_count": 19,
   "metadata": {
    "scrolled": true
   },
   "outputs": [],
   "source": [
    "classes= {index:breed for breed,index in training_set.class_indices.items()}\n",
    "column_names = [classes[i] for i in range(120)]"
   ]
  },
  {
   "cell_type": "markdown",
   "metadata": {},
   "source": [
    "Dla każdego ze zdjęć otrzymaliśmy prawdopodobienstwo przynależności do każdej z ras. \"Wygrywa\" ta, dla której wartość jest największa."
   ]
  },
  {
   "cell_type": "code",
   "execution_count": 20,
   "metadata": {},
   "outputs": [
    {
     "data": {
      "text/html": [
       "<div>\n",
       "<style scoped>\n",
       "    .dataframe tbody tr th:only-of-type {\n",
       "        vertical-align: middle;\n",
       "    }\n",
       "\n",
       "    .dataframe tbody tr th {\n",
       "        vertical-align: top;\n",
       "    }\n",
       "\n",
       "    .dataframe thead th {\n",
       "        text-align: right;\n",
       "    }\n",
       "</style>\n",
       "<table border=\"1\" class=\"dataframe\">\n",
       "  <thead>\n",
       "    <tr style=\"text-align: right;\">\n",
       "      <th></th>\n",
       "      <th>id</th>\n",
       "      <th>affenpinscher</th>\n",
       "      <th>afghan_hound</th>\n",
       "      <th>african_hunting_dog</th>\n",
       "      <th>airedale</th>\n",
       "      <th>american_staffordshire_terrier</th>\n",
       "      <th>appenzeller</th>\n",
       "      <th>australian_terrier</th>\n",
       "      <th>basenji</th>\n",
       "      <th>basset</th>\n",
       "      <th>...</th>\n",
       "      <th>toy_poodle</th>\n",
       "      <th>toy_terrier</th>\n",
       "      <th>vizsla</th>\n",
       "      <th>walker_hound</th>\n",
       "      <th>weimaraner</th>\n",
       "      <th>welsh_springer_spaniel</th>\n",
       "      <th>west_highland_white_terrier</th>\n",
       "      <th>whippet</th>\n",
       "      <th>wire-haired_fox_terrier</th>\n",
       "      <th>yorkshire_terrier</th>\n",
       "    </tr>\n",
       "  </thead>\n",
       "  <tbody>\n",
       "    <tr>\n",
       "      <td>0</td>\n",
       "      <td>264833ebf9f2bf8b07651f72916f8c75</td>\n",
       "      <td>0.004973</td>\n",
       "      <td>0.008849</td>\n",
       "      <td>0.009799</td>\n",
       "      <td>0.006377</td>\n",
       "      <td>0.012081</td>\n",
       "      <td>0.016524</td>\n",
       "      <td>0.004380</td>\n",
       "      <td>0.013987</td>\n",
       "      <td>0.014616</td>\n",
       "      <td>...</td>\n",
       "      <td>0.003485</td>\n",
       "      <td>0.011724</td>\n",
       "      <td>0.001662</td>\n",
       "      <td>0.012672</td>\n",
       "      <td>0.006028</td>\n",
       "      <td>0.015467</td>\n",
       "      <td>0.007532</td>\n",
       "      <td>0.011599</td>\n",
       "      <td>0.009254</td>\n",
       "      <td>0.006394</td>\n",
       "    </tr>\n",
       "    <tr>\n",
       "      <td>1</td>\n",
       "      <td>ae2b2271318cc84364931ada1c75b295</td>\n",
       "      <td>0.000013</td>\n",
       "      <td>0.010415</td>\n",
       "      <td>0.000399</td>\n",
       "      <td>0.007956</td>\n",
       "      <td>0.006298</td>\n",
       "      <td>0.000013</td>\n",
       "      <td>0.002086</td>\n",
       "      <td>0.001356</td>\n",
       "      <td>0.000249</td>\n",
       "      <td>...</td>\n",
       "      <td>0.034851</td>\n",
       "      <td>0.000418</td>\n",
       "      <td>0.000662</td>\n",
       "      <td>0.001188</td>\n",
       "      <td>0.009345</td>\n",
       "      <td>0.001190</td>\n",
       "      <td>0.026695</td>\n",
       "      <td>0.005328</td>\n",
       "      <td>0.007585</td>\n",
       "      <td>0.014946</td>\n",
       "    </tr>\n",
       "    <tr>\n",
       "      <td>2</td>\n",
       "      <td>35d9bcc10f2762ed900f7a2c48d37c15</td>\n",
       "      <td>0.011253</td>\n",
       "      <td>0.012878</td>\n",
       "      <td>0.008130</td>\n",
       "      <td>0.014887</td>\n",
       "      <td>0.007970</td>\n",
       "      <td>0.004598</td>\n",
       "      <td>0.015277</td>\n",
       "      <td>0.006521</td>\n",
       "      <td>0.003825</td>\n",
       "      <td>...</td>\n",
       "      <td>0.007588</td>\n",
       "      <td>0.006232</td>\n",
       "      <td>0.005367</td>\n",
       "      <td>0.003928</td>\n",
       "      <td>0.008974</td>\n",
       "      <td>0.004629</td>\n",
       "      <td>0.002303</td>\n",
       "      <td>0.006317</td>\n",
       "      <td>0.004619</td>\n",
       "      <td>0.009194</td>\n",
       "    </tr>\n",
       "    <tr>\n",
       "      <td>3</td>\n",
       "      <td>66fabb7f526d842a06829a770b959b9d</td>\n",
       "      <td>0.002752</td>\n",
       "      <td>0.017753</td>\n",
       "      <td>0.028376</td>\n",
       "      <td>0.018867</td>\n",
       "      <td>0.008121</td>\n",
       "      <td>0.002358</td>\n",
       "      <td>0.014366</td>\n",
       "      <td>0.005857</td>\n",
       "      <td>0.002111</td>\n",
       "      <td>...</td>\n",
       "      <td>0.006824</td>\n",
       "      <td>0.003504</td>\n",
       "      <td>0.008466</td>\n",
       "      <td>0.002689</td>\n",
       "      <td>0.017079</td>\n",
       "      <td>0.004156</td>\n",
       "      <td>0.001761</td>\n",
       "      <td>0.009937</td>\n",
       "      <td>0.003191</td>\n",
       "      <td>0.007780</td>\n",
       "    </tr>\n",
       "    <tr>\n",
       "      <td>4</td>\n",
       "      <td>cf5b51fe08e3337217fca120a03ac993</td>\n",
       "      <td>0.008872</td>\n",
       "      <td>0.014479</td>\n",
       "      <td>0.011384</td>\n",
       "      <td>0.010697</td>\n",
       "      <td>0.009027</td>\n",
       "      <td>0.007067</td>\n",
       "      <td>0.011909</td>\n",
       "      <td>0.007909</td>\n",
       "      <td>0.004364</td>\n",
       "      <td>...</td>\n",
       "      <td>0.007758</td>\n",
       "      <td>0.005329</td>\n",
       "      <td>0.006180</td>\n",
       "      <td>0.004746</td>\n",
       "      <td>0.009110</td>\n",
       "      <td>0.005859</td>\n",
       "      <td>0.002836</td>\n",
       "      <td>0.006183</td>\n",
       "      <td>0.004767</td>\n",
       "      <td>0.006992</td>\n",
       "    </tr>\n",
       "    <tr>\n",
       "      <td>...</td>\n",
       "      <td>...</td>\n",
       "      <td>...</td>\n",
       "      <td>...</td>\n",
       "      <td>...</td>\n",
       "      <td>...</td>\n",
       "      <td>...</td>\n",
       "      <td>...</td>\n",
       "      <td>...</td>\n",
       "      <td>...</td>\n",
       "      <td>...</td>\n",
       "      <td>...</td>\n",
       "      <td>...</td>\n",
       "      <td>...</td>\n",
       "      <td>...</td>\n",
       "      <td>...</td>\n",
       "      <td>...</td>\n",
       "      <td>...</td>\n",
       "      <td>...</td>\n",
       "      <td>...</td>\n",
       "      <td>...</td>\n",
       "      <td>...</td>\n",
       "    </tr>\n",
       "    <tr>\n",
       "      <td>10352</td>\n",
       "      <td>5dac8f13467994de6ba778df1cdba3fd</td>\n",
       "      <td>0.021089</td>\n",
       "      <td>0.009513</td>\n",
       "      <td>0.006204</td>\n",
       "      <td>0.019570</td>\n",
       "      <td>0.004662</td>\n",
       "      <td>0.015485</td>\n",
       "      <td>0.017958</td>\n",
       "      <td>0.004477</td>\n",
       "      <td>0.004410</td>\n",
       "      <td>...</td>\n",
       "      <td>0.004604</td>\n",
       "      <td>0.008117</td>\n",
       "      <td>0.004837</td>\n",
       "      <td>0.001177</td>\n",
       "      <td>0.003099</td>\n",
       "      <td>0.003038</td>\n",
       "      <td>0.000776</td>\n",
       "      <td>0.011701</td>\n",
       "      <td>0.001460</td>\n",
       "      <td>0.006164</td>\n",
       "    </tr>\n",
       "    <tr>\n",
       "      <td>10353</td>\n",
       "      <td>4064e9fe3249051177c27d4d505c1d83</td>\n",
       "      <td>0.000323</td>\n",
       "      <td>0.016861</td>\n",
       "      <td>0.005937</td>\n",
       "      <td>0.006728</td>\n",
       "      <td>0.008519</td>\n",
       "      <td>0.000444</td>\n",
       "      <td>0.003315</td>\n",
       "      <td>0.010771</td>\n",
       "      <td>0.002084</td>\n",
       "      <td>...</td>\n",
       "      <td>0.017594</td>\n",
       "      <td>0.002045</td>\n",
       "      <td>0.003176</td>\n",
       "      <td>0.003863</td>\n",
       "      <td>0.013445</td>\n",
       "      <td>0.004858</td>\n",
       "      <td>0.016281</td>\n",
       "      <td>0.021490</td>\n",
       "      <td>0.006694</td>\n",
       "      <td>0.011760</td>\n",
       "    </tr>\n",
       "    <tr>\n",
       "      <td>10354</td>\n",
       "      <td>a9fa08dfaec85e98387911dd4364ce79</td>\n",
       "      <td>0.002919</td>\n",
       "      <td>0.009047</td>\n",
       "      <td>0.019081</td>\n",
       "      <td>0.020490</td>\n",
       "      <td>0.005408</td>\n",
       "      <td>0.001090</td>\n",
       "      <td>0.018247</td>\n",
       "      <td>0.013728</td>\n",
       "      <td>0.002240</td>\n",
       "      <td>...</td>\n",
       "      <td>0.006309</td>\n",
       "      <td>0.006974</td>\n",
       "      <td>0.015015</td>\n",
       "      <td>0.003541</td>\n",
       "      <td>0.008495</td>\n",
       "      <td>0.004511</td>\n",
       "      <td>0.000740</td>\n",
       "      <td>0.011386</td>\n",
       "      <td>0.006220</td>\n",
       "      <td>0.008212</td>\n",
       "    </tr>\n",
       "    <tr>\n",
       "      <td>10355</td>\n",
       "      <td>3be602e5b58c0274b72ad5322d3c8601</td>\n",
       "      <td>0.004407</td>\n",
       "      <td>0.013429</td>\n",
       "      <td>0.011236</td>\n",
       "      <td>0.007467</td>\n",
       "      <td>0.009799</td>\n",
       "      <td>0.003413</td>\n",
       "      <td>0.009195</td>\n",
       "      <td>0.013759</td>\n",
       "      <td>0.006266</td>\n",
       "      <td>...</td>\n",
       "      <td>0.008467</td>\n",
       "      <td>0.005802</td>\n",
       "      <td>0.005664</td>\n",
       "      <td>0.004282</td>\n",
       "      <td>0.010893</td>\n",
       "      <td>0.009495</td>\n",
       "      <td>0.007772</td>\n",
       "      <td>0.011357</td>\n",
       "      <td>0.007277</td>\n",
       "      <td>0.013747</td>\n",
       "    </tr>\n",
       "    <tr>\n",
       "      <td>10356</td>\n",
       "      <td>e9a092de78948af4ab9ec3f8027a5d54</td>\n",
       "      <td>0.011134</td>\n",
       "      <td>0.011439</td>\n",
       "      <td>0.007506</td>\n",
       "      <td>0.016200</td>\n",
       "      <td>0.009072</td>\n",
       "      <td>0.002904</td>\n",
       "      <td>0.013109</td>\n",
       "      <td>0.005455</td>\n",
       "      <td>0.004388</td>\n",
       "      <td>...</td>\n",
       "      <td>0.009986</td>\n",
       "      <td>0.005215</td>\n",
       "      <td>0.006605</td>\n",
       "      <td>0.003397</td>\n",
       "      <td>0.012610</td>\n",
       "      <td>0.005852</td>\n",
       "      <td>0.004944</td>\n",
       "      <td>0.006859</td>\n",
       "      <td>0.005192</td>\n",
       "      <td>0.010193</td>\n",
       "    </tr>\n",
       "  </tbody>\n",
       "</table>\n",
       "<p>10357 rows × 121 columns</p>\n",
       "</div>"
      ],
      "text/plain": [
       "                                     id  affenpinscher  afghan_hound  \\\n",
       "0      264833ebf9f2bf8b07651f72916f8c75       0.004973      0.008849   \n",
       "1      ae2b2271318cc84364931ada1c75b295       0.000013      0.010415   \n",
       "2      35d9bcc10f2762ed900f7a2c48d37c15       0.011253      0.012878   \n",
       "3      66fabb7f526d842a06829a770b959b9d       0.002752      0.017753   \n",
       "4      cf5b51fe08e3337217fca120a03ac993       0.008872      0.014479   \n",
       "...                                 ...            ...           ...   \n",
       "10352  5dac8f13467994de6ba778df1cdba3fd       0.021089      0.009513   \n",
       "10353  4064e9fe3249051177c27d4d505c1d83       0.000323      0.016861   \n",
       "10354  a9fa08dfaec85e98387911dd4364ce79       0.002919      0.009047   \n",
       "10355  3be602e5b58c0274b72ad5322d3c8601       0.004407      0.013429   \n",
       "10356  e9a092de78948af4ab9ec3f8027a5d54       0.011134      0.011439   \n",
       "\n",
       "       african_hunting_dog  airedale  american_staffordshire_terrier  \\\n",
       "0                 0.009799  0.006377                        0.012081   \n",
       "1                 0.000399  0.007956                        0.006298   \n",
       "2                 0.008130  0.014887                        0.007970   \n",
       "3                 0.028376  0.018867                        0.008121   \n",
       "4                 0.011384  0.010697                        0.009027   \n",
       "...                    ...       ...                             ...   \n",
       "10352             0.006204  0.019570                        0.004662   \n",
       "10353             0.005937  0.006728                        0.008519   \n",
       "10354             0.019081  0.020490                        0.005408   \n",
       "10355             0.011236  0.007467                        0.009799   \n",
       "10356             0.007506  0.016200                        0.009072   \n",
       "\n",
       "       appenzeller  australian_terrier   basenji    basset  ...  toy_poodle  \\\n",
       "0         0.016524            0.004380  0.013987  0.014616  ...    0.003485   \n",
       "1         0.000013            0.002086  0.001356  0.000249  ...    0.034851   \n",
       "2         0.004598            0.015277  0.006521  0.003825  ...    0.007588   \n",
       "3         0.002358            0.014366  0.005857  0.002111  ...    0.006824   \n",
       "4         0.007067            0.011909  0.007909  0.004364  ...    0.007758   \n",
       "...            ...                 ...       ...       ...  ...         ...   \n",
       "10352     0.015485            0.017958  0.004477  0.004410  ...    0.004604   \n",
       "10353     0.000444            0.003315  0.010771  0.002084  ...    0.017594   \n",
       "10354     0.001090            0.018247  0.013728  0.002240  ...    0.006309   \n",
       "10355     0.003413            0.009195  0.013759  0.006266  ...    0.008467   \n",
       "10356     0.002904            0.013109  0.005455  0.004388  ...    0.009986   \n",
       "\n",
       "       toy_terrier    vizsla  walker_hound  weimaraner  \\\n",
       "0         0.011724  0.001662      0.012672    0.006028   \n",
       "1         0.000418  0.000662      0.001188    0.009345   \n",
       "2         0.006232  0.005367      0.003928    0.008974   \n",
       "3         0.003504  0.008466      0.002689    0.017079   \n",
       "4         0.005329  0.006180      0.004746    0.009110   \n",
       "...            ...       ...           ...         ...   \n",
       "10352     0.008117  0.004837      0.001177    0.003099   \n",
       "10353     0.002045  0.003176      0.003863    0.013445   \n",
       "10354     0.006974  0.015015      0.003541    0.008495   \n",
       "10355     0.005802  0.005664      0.004282    0.010893   \n",
       "10356     0.005215  0.006605      0.003397    0.012610   \n",
       "\n",
       "       welsh_springer_spaniel  west_highland_white_terrier   whippet  \\\n",
       "0                    0.015467                     0.007532  0.011599   \n",
       "1                    0.001190                     0.026695  0.005328   \n",
       "2                    0.004629                     0.002303  0.006317   \n",
       "3                    0.004156                     0.001761  0.009937   \n",
       "4                    0.005859                     0.002836  0.006183   \n",
       "...                       ...                          ...       ...   \n",
       "10352                0.003038                     0.000776  0.011701   \n",
       "10353                0.004858                     0.016281  0.021490   \n",
       "10354                0.004511                     0.000740  0.011386   \n",
       "10355                0.009495                     0.007772  0.011357   \n",
       "10356                0.005852                     0.004944  0.006859   \n",
       "\n",
       "       wire-haired_fox_terrier  yorkshire_terrier  \n",
       "0                     0.009254           0.006394  \n",
       "1                     0.007585           0.014946  \n",
       "2                     0.004619           0.009194  \n",
       "3                     0.003191           0.007780  \n",
       "4                     0.004767           0.006992  \n",
       "...                        ...                ...  \n",
       "10352                 0.001460           0.006164  \n",
       "10353                 0.006694           0.011760  \n",
       "10354                 0.006220           0.008212  \n",
       "10355                 0.007277           0.013747  \n",
       "10356                 0.005192           0.010193  \n",
       "\n",
       "[10357 rows x 121 columns]"
      ]
     },
     "execution_count": 20,
     "metadata": {},
     "output_type": "execute_result"
    }
   ],
   "source": [
    "predictions_df = pd.DataFrame(predictions)\n",
    "predictions_df.columns = column_names\n",
    "predictions_df.insert(0,'id', test_set_ids)\n",
    "#predictions_df.index = test_set_ids\n",
    "predictions_df"
   ]
  },
  {
   "cell_type": "markdown",
   "metadata": {},
   "source": [
    "Wyniki zapisujemy do pliku CSV. "
   ]
  },
  {
   "cell_type": "code",
   "execution_count": 21,
   "metadata": {
    "scrolled": true
   },
   "outputs": [],
   "source": [
    "predictions_df.to_csv('interim_submission.csv',sep=\",\")"
   ]
  },
  {
   "cell_type": "markdown",
   "metadata": {},
   "source": [
    "## 5. Graficzna reprezentacja"
   ]
  },
  {
   "cell_type": "markdown",
   "metadata": {},
   "source": [
    "Poniższy wykres przedstawia stratę (*loss*) na zbiorze walidacyjnym. Im niższa strata, tym lepszy model (chyba że model zbytnio dopasował się do danych treningowych). Stratę oblicza się na podstawie zbioru treningowego i walidacyjnego, a jego interperacja określa, jak dobrze model radzi sobie na tych dwóch zestawach. W przeciwieństwie do dokładności (*accuracy*), strata nie jest wyrażana jako procent. Jest to suma błędów popełnianych dla każdego przykładu w zestawach szkoleniowych lub walidacyjnych.\n",
    "\n",
    "W przypadku sieci neuronowych strata jest zwykle ujemnym logarytmem wiarygodności i suma kwadratów reszt odpowiednio dla klasyfikacji i regresji. Następnie oczywiście głównym celem w modelu uczenia się jest zmniejszenie (minimalizacja) wartości funkcji straty w odniesieniu do parametrów modelu przez zmianę wartości wag wektora za pomocą różnych metod optymalizacji, takich jak propagacja wsteczna w sieciach neuronowych.\n",
    "\n",
    "Wartość straty informuje, jak dobrze lub źle zachowuje się określony model po każdej iteracji optymalizacji. Idealnie byłoby oczekiwać zmniejszenia straty po każdej lub kilku iteracjach."
   ]
  },
  {
   "cell_type": "code",
   "execution_count": 22,
   "metadata": {
    "scrolled": true
   },
   "outputs": [
    {
     "data": {
      "image/png": "[encoded data removed]",
      "text/plain": [
       "<Figure size 432x288 with 1 Axes>"
      ]
     },
     "metadata": {
      "needs_background": "light"
     },
     "output_type": "display_data"
    }
   ],
   "source": [
    "plt.plot(hist.history['val_loss'])\n",
    "plt.xlabel('epochs')\n",
    "plt.ylabel('validation loss')\n",
    "plt.show()"
   ]
  },
  {
   "cell_type": "markdown",
   "metadata": {},
   "source": [
    "Dokładność modelu jest zwykle określana po poznaniu i ustaleniu parametrów modelu i braku daleszej poprawy w uczenia się. Następnie dane testowe są podawane do modelu i rejestrowana jest liczba błędów (klasyfikacja zero-jedynkowa), które popełnił model, po porównaniu z oznaczeniami. Następnie obliczany jest odsetek błędnej klasyfikacji.\n",
    "\n",
    "Na przykład, jeśli liczba próbek testowych wynosi 1000, a model poprawnie klasyfikuje 952 próbki, to dokładność modelu wynosi 95,2%."
   ]
  },
  {
   "cell_type": "code",
   "execution_count": 23,
   "metadata": {
    "scrolled": true
   },
   "outputs": [
    {
     "data": {
      "image/png": "[encoded data removed]",
      "text/plain": [
       "<Figure size 432x288 with 1 Axes>"
      ]
     },
     "metadata": {
      "needs_background": "light"
     },
     "output_type": "display_data"
    }
   ],
   "source": [
    "plt.plot(hist.history['accuracy'])\n",
    "plt.xlabel('epochs')\n",
    "plt.ylabel('accuracy')\n",
    "plt.show()"
   ]
  },
  {
   "cell_type": "markdown",
   "metadata": {},
   "source": [
    "Poniżej znajduje się porównanie dokładności modelu na zbiorze testowym i treningowym. Jak widać, dokładność na zbiorze walidacyjnym nie odbiega zbytnio od dokładności na zbiorze treningowym, a więc oba zbiory są dobrze przygotowane, a dodatkowo model nie jest przeuczony. Martwić może natomiast fakt, że sieć osiągnęła małą precyzję. "
   ]
  },
  {
   "cell_type": "code",
   "execution_count": 24,
   "metadata": {
    "scrolled": true
   },
   "outputs": [
    {
     "data": {
      "image/png": "[encoded data removed]",
      "text/plain": [
       "<Figure size 432x288 with 1 Axes>"
      ]
     },
     "metadata": {
      "needs_background": "light"
     },
     "output_type": "display_data"
    }
   ],
   "source": [
    "plt.plot(hist.history['accuracy'],label=\"Accuracy\")\n",
    "plt.plot(hist.history['val_accuracy'], label=\"Validation accuracy\")\n",
    "plt.legend()\n",
    "plt.xlabel('epochs')\n",
    "plt.show()"
   ]
  },
  {
   "cell_type": "code",
   "execution_count": 25,
   "metadata": {
    "scrolled": true
   },
   "outputs": [
    {
     "data": {
      "image/png": "[encoded data removed]",
      "text/plain": [
       "<Figure size 432x288 with 1 Axes>"
      ]
     },
     "metadata": {
      "needs_background": "light"
     },
     "output_type": "display_data"
    }
   ],
   "source": [
    "plt.plot(hist.history['loss'],label=\"traing loss\")\n",
    "plt.plot(hist.history['val_loss'], label=\"Validation loss\")\n",
    "plt.legend()\n",
    "plt.xlabel('epochs')\n",
    "plt.show()"
   ]
  },
  {
   "cell_type": "markdown",
   "metadata": {},
   "source": [
    "## Podsumowanie\n",
    "\n",
    "Tak jak zostało to opisane we wprowadzeniu na podstawie zdjęć psów, z wykorzystaiem uczenia sieci neuronowej przypisaliśmy ich rasy. Proces uczenia sieci wykonaliśmy poprzez Konwulacyjną (Splotową) sieć neuronową ze względu na jej efektywniejsze działanie nie wykorzystujące dużej ilości parametrów.\n",
    "Podzieliliśmy zbiory na testowy ( w tym treningowy)  i walidacyjny, następnie załadowaliśmy odpowiednią proporcjonalną ilość zdjęć. Następnie dokonaliśmy prob uczących przez sieć z wykorzystaniem biblioteki KERAS.\n",
    "Proces wyglądał następująco:\n",
    "\n",
    "- Na wejściu algorytm otrzymuje zbiór zawierający N obrazów, każdy z nich przypisany jest do jednej z K klas. \n",
    "- Następnie wykorzystuje się zbiór treningowy do szkolenia klasyfikatora tak, aby był on w stanie jak najepiej przyporządkować etykietę do zdjęcia.\n",
    "- Na koniec ocenia się jakość klasyfikatora, prosząc go o przewidywanie etykiet dla nowego zestawu obrazów, których nigdy wcześniej nie widział, po czym porównamy prawdziwe etykiety tych obrazów z przewidywanymi przez klasyfikator.\n",
    "\n",
    "Po przetworzeniu procesów otrzymaliśmy wyniki:\n",
    "Na zbiorze walidacyjnym wraz ze wzrostem liczby przetworzonych zdjęć rośnie precyzja przypisywania nazwy rasy do danego zdjęcia. Niestety dla tak wielkiego zbioru różnych klas nasz model okazuje się byc zbyt prosty, aby sprostać temu zadaniu. Accuracy jest realtywnie niskie, co można tłumaczyć m.in. małą liczbą warstw sieci.     \n",
    "\n",
    "Z uwagi na ograniczenia związane z terminem oddania projektu a także z ograniczoną mocą obliczeniową, którą dysponujemy (po zastosowaniu poprawek musieliśmy czekać nawet do 24 godzin, aż model ponownie się przeliczy) oczywiste jest, że można dokonać jeszcze wielu różnych poprawek (np. zwiększenie liczby warstw sieci) oraz rozpatrzeć kilka alternatywnych modeli. "
   ]
  },
  {
   "cell_type": "markdown",
   "metadata": {},
   "source": [
    "## Bibliografia\n",
    "- http://home.agh.edu.pl/~horzyk/lectures/ai/SztucznaInteligencja-UczenieG%C5%82%C4%99bokichSieciNeuronowych.pdf\n",
    "- https://keras.io/api/\n",
    "- https://miroslawmamczur.pl/przykladowa-siec-neuronowa-mlp-w-tensorflow/\n",
    "- https://ksopyla.com/python/tensorflow/wielowarstwowa-siec-neuronowa-w-tensorflow-do-klasyfikacji-cyfr-z-mnist/\n",
    "- https://towardsdatascience.com/understanding-and-coding-a-resnet-in-keras-446d7ff84d33"
   ]
  }
 ],
 "metadata": {
  "kernelspec": {
   "display_name": "Python 3",
   "language": "python",
   "name": "python3"
  },
  "language_info": {
   "codemirror_mode": {
    "name": "ipython",
    "version": 3
   },
   "file_extension": ".py",
   "mimetype": "text/x-python",
   "name": "python",
   "nbconvert_exporter": "python",
   "pygments_lexer": "ipython3",
   "version": "3.7.4"
  }
 },
 "nbformat": 4,
 "nbformat_minor": 2
}
